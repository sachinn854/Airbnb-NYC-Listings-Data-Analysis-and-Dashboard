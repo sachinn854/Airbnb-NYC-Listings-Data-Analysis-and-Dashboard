{
 "cells": [
  {
   "cell_type": "markdown",
   "id": "91dbc9f3",
   "metadata": {},
   "source": [
    "<div style=\"background-color: #f4f6f8; border-left: 4px solid #2196f3; padding: 12px; margin: 10px 0; color: #1a1a1a;\">\n",
    "  <h3 style=\"color: #2196f3; margin: 0;\">🔧 Feature Engineering</h3>\n",
    "  <p style=\"margin-top: 8px;\">\n",
    "    In this step, we enhance our dataset by creating new features or modifying existing ones to uncover deeper insights during exploratory data analysis (EDA). The goal is not to prepare the data for modeling, but rather to:\n",
    "  </p>\n",
    "  <ul style=\"margin: 8px 0 0 20px; padding: 0; list-style-type: disc;\">\n",
    "    <li>Extract meaningful patterns.</li>\n",
    "    <li>Simplify visualizations and comparisons.</li>\n",
    "    <li>Improve interpretability of the data.</li>\n",
    "  </ul>\n",
    "  <p style=\"margin-top: 10px;\">\n",
    "    By engineering additional features such as:\n",
    "  </p>\n",
    "  <ul style=\"margin: 5px 0 0 20px; padding: 0; list-style-type: disc;\">\n",
    "    <li>Indicators for review activity (e.g., has_reviews, active_review_months).</li>\n",
    "    <li>Normalized or binned pricing (e.g., price categories).</li>\n",
    "    <li>Availability flags (e.g., available_more_than_half_year).</li>\n",
    "    <li>Categorical groupings (e.g., region-wise or room_type clusters).</li>\n",
    "  </ul>\n",
    "  <p style=\"margin-top: 10px;\">\n",
    "    These derived features help us generate more insightful visualizations and draw meaningful comparisons across different dimensions of the Airbnb dataset.\n",
    "  </p>\n",
    "</div>\n"
   ]
  },
  {
   "cell_type": "code",
   "execution_count": 1,
   "id": "c493cf56",
   "metadata": {},
   "outputs": [],
   "source": [
    "import pandas as pd"
   ]
  },
  {
   "cell_type": "code",
   "execution_count": 2,
   "id": "0ba68a8e",
   "metadata": {},
   "outputs": [],
   "source": [
    "df=pd.read_csv(\"AB_NYC_Cleaned.csv\")"
   ]
  },
  {
   "cell_type": "markdown",
   "id": "bfb44164",
   "metadata": {},
   "source": [
    "<div style=\"background-color: #fffbea; border-left: 4px solid #f9a825; padding: 12px; margin: 10px 0; color: #212121;\">\n",
    "  <h4 style=\"color: #f9a825; margin: 0;\">🔹 Feature Name: <code>has_review</code></h4>\n",
    "  <p style=\"margin: 8px 0;\"><strong>Logic:</strong><br>\n",
    "    If a listing has more than <code>0</code> reviews, it is marked as <code>1</code>; otherwise, it is marked as <code>0</code>.\n",
    "  </p>\n",
    "  <p style=\"margin: 8px 0;\"><strong>Purpose:</strong><br>\n",
    "    This feature helps distinguish between listings that have received feedback and those that haven’t. It is useful in understanding listing activity, popularity, and reliability.\n",
    "  </p>\n",
    "  <p style=\"margin: 8px 0;\"><strong>Why Useful for Visualization:</strong></p>\n",
    "  <ul style=\"margin: 0 0 0 20px; padding: 0; list-style-type: disc;\">\n",
    "    <li>Allows analysis of differences in price, room type, or availability between reviewed and non-reviewed listings.</li>\n",
    "    <li>Helpful for filtering and grouping during exploratory data analysis.</li>\n",
    "  </ul>\n",
    "</div>\n"
   ]
  },
  {
   "cell_type": "code",
   "execution_count": 3,
   "id": "d0fdb785",
   "metadata": {},
   "outputs": [],
   "source": [
    "# Create a new binary feature: has_review\n",
    "df['has_review'] = df['number_of_reviews'].apply(lambda x: 1 if x > 0 else 0)"
   ]
  },
  {
   "cell_type": "markdown",
   "id": "78fb9ad4",
   "metadata": {},
   "source": [
    "<div style=\"background-color:#e3f2fd; border-left:4px solid #2196f3; padding:14px; margin:12px 0; font-size:15px; line-height:1.6; color:#0a0a0a;\">\n",
    "  <h4 style=\"margin:0 0 6px 0; color:#0d47a1; font-size:17px;\">🔹 Feature: <code>price_per_night</code></h4>\n",
    "  <p><strong>Logic:</strong> <code>price ÷ minimum_nights</code> to normalize listing cost.</p>\n",
    "  <p><strong>Purpose:</strong> Standardizes pricing to compare listings fairly.</p>\n",
    "  <p><strong>Visualization Use:</strong></p>\n",
    "  <ul style=\"margin: 0 0 0 20px;\">\n",
    "    <li>Compare cost across <code>room_type</code> and <code>neighbourhood_group</code>.</li>\n",
    "    <li>Spot overpriced/underpriced listings more clearly.</li>\n",
    "  </ul>\n",
    "</div>\n"
   ]
  },
  {
   "cell_type": "code",
   "execution_count": 4,
   "id": "867f3328",
   "metadata": {},
   "outputs": [],
   "source": [
    "import numpy as np"
   ]
  },
  {
   "cell_type": "code",
   "execution_count": 6,
   "id": "70bbbf4a",
   "metadata": {},
   "outputs": [],
   "source": [
    "df['price_per_night'] = df.apply(\n",
    "    lambda row: row['price'] / row['minimum_nights'] if row['minimum_nights'] > 0 else np.nan,\n",
    "    axis=1\n",
    ")\n",
    "\n",
    "# Replace inf with NaN safely\n",
    "df['price_per_night'] = df['price_per_night'].replace([np.inf, -np.inf], np.nan)\n"
   ]
  },
  {
   "cell_type": "markdown",
   "id": "f7742c05",
   "metadata": {},
   "source": [
    "<div style=\"background-color:#e3f2fd; border-left:4px solid #2196f3; padding:14px; margin:12px 0; font-size:15px; line-height:1.6; color:#0a0a0a;\">\n",
    "  <h4 style=\"margin:0 0 6px 0; color:#0d47a1; font-size:17px;\">🔹 Feature: <code>active_listing</code></h4>\n",
    "  <p><strong>Logic:</strong> If <code>availability_365 &gt; 0</code>, then <code>active_listing = 1</code>; else <code>0</code>.</p>\n",
    "  <p><strong>Purpose:</strong> Flags listings that are currently bookable.</p>\n",
    "  <p><strong>Visualization Use:</strong></p>\n",
    "  <ul style=\"margin: 0 0 0 20px;\">\n",
    "    <li>Filter for listings with active availability.</li>\n",
    "    <li>Understand availability patterns by <code>room_type</code> or <code>neighbourhood_group</code>.</li>\n",
    "    <li>Analyze market presence of hosts.</li>\n",
    "  </ul>\n",
    "</div>\n"
   ]
  },
  {
   "cell_type": "code",
   "execution_count": 7,
   "id": "a9927390",
   "metadata": {},
   "outputs": [],
   "source": [
    "df['active_listing'] = df['availability_365'].apply(lambda x: 1 if x > 0 else 0)\n"
   ]
  },
  {
   "cell_type": "markdown",
   "id": "acf92891",
   "metadata": {},
   "source": [
    "<div style=\"background-color:#e3f2fd; border-left:4px solid #2196f3; padding:14px; margin:12px 0; font-size:15px; line-height:1.6; color:#0a0a0a;\">\n",
    "  <h4 style=\"margin:0 0 6px 0; color:#0d47a1; font-size:17px;\">🔹 Feature: <code>seasonal_availability</code></h4>\n",
    "  <p><strong>Logic:</strong> Categorize <code>availability_365</code> into bins (e.g., low, medium, high availability).</p>\n",
    "  <p><strong>Purpose:</strong> Converts numeric availability into seasonal labels for easier comparison.</p>\n",
    "  <p><strong>Visualization Use:</strong></p>\n",
    "  <ul style=\"margin: 0 0 0 20px;\">\n",
    "    <li>Visualize listing distribution by availability category.</li>\n",
    "    <li>Compare trends across <code>room_type</code> and <code>neighbourhood_group</code>.</li>\n",
    "  </ul>\n",
    "</div>\n"
   ]
  },
  {
   "cell_type": "code",
   "execution_count": 8,
   "id": "46e73f09",
   "metadata": {},
   "outputs": [],
   "source": [
    "def categorize_availability(x):\n",
    "    if x == 0:\n",
    "        return 'Not Available'\n",
    "    elif x <= 120:\n",
    "        return 'Low'\n",
    "    elif x <= 240:\n",
    "        return 'Medium'\n",
    "    else:\n",
    "        return 'High'\n",
    "\n",
    "df['seasonal_availability'] = df['availability_365'].apply(categorize_availability)\n"
   ]
  },
  {
   "cell_type": "markdown",
   "id": "3ba9d3cf",
   "metadata": {},
   "source": [
    "<div style=\"background-color:#e3f2fd; border-left:4px solid #2196f3; padding:14px; margin:12px 0; font-size:15px; line-height:1.6; color:#0a0a0a;\">\n",
    "  <h4 style=\"margin:0 0 6px 0; color:#0d47a1; font-size:17px;\">🔹 Feature: <code>is_entire_home</code></h4>\n",
    "  <p><strong>Logic:</strong> Binary flag where 1 = <code>Entire home/apt</code>, 0 = otherwise.</p>\n",
    "  <p><strong>Purpose:</strong> Highlights listings offering complete privacy vs shared spaces.</p>\n",
    "  <p><strong>Visualization Use:</strong></p>\n",
    "  <ul style=\"margin: 0 0 0 20px;\">\n",
    "    <li>Compare price or availability between private and shared spaces.</li>\n",
    "    <li>Useful for filtering or segmenting by privacy preference.</li>\n",
    "  </ul>\n",
    "</div>\n"
   ]
  },
  {
   "cell_type": "code",
   "execution_count": 9,
   "id": "df61ad17",
   "metadata": {},
   "outputs": [],
   "source": [
    "df['is_entire_home'] = (df['room_type'] == 'Entire home/apt').astype(int)\n"
   ]
  },
  {
   "cell_type": "code",
   "execution_count": 10,
   "id": "06852851",
   "metadata": {},
   "outputs": [],
   "source": [
    "df.to_csv(\"AB_NYC_Featured.csv\",index=False)"
   ]
  },
  {
   "cell_type": "markdown",
   "id": "6b9ae119",
   "metadata": {},
   "source": [
    "<div style=\"background-color:#e8f5e9; border-left:6px solid #2e7d32; padding:16px; margin:20px 0; font-size:15.5px; line-height:1.7; color:#1b5e20;\">\n",
    "  <h3 style=\"margin-top:0; color:#1b5e20;\">✅ <strong>Conclusion – Feature Engineering</strong></h3>\n",
    "  <p>In this step, we engineered several new features to enhance our understanding of the Airbnb dataset and enable more insightful visualizations.</p>\n",
    "  <ul style=\"margin-left:20px;\">\n",
    "    <li><code>has_review</code> and <code>active_listing</code> distinguish between listings that are operational or inactive.</li>\n",
    "    <li><code>price_per_night</code> normalizes pricing by accounting for minimum stay requirements, making cost comparisons fairer.</li>\n",
    "    <li><code>seasonal_availability</code> categorizes <code>availability_365</code> to capture seasonal booking trends.</li>\n",
    "    <li>Binary features like <code>is_entire_home</code> and one-hot encoded columns help segment listings by type for better comparative analysis.</li>\n",
    "  </ul>\n",
    "  <p>These engineered features not only add depth to our exploratory data analysis (EDA) but also lay the foundation for more targeted and meaningful visualizations in the next steps.</p>\n",
    "</div>\n"
   ]
  }
 ],
 "metadata": {
  "kernelspec": {
   "display_name": "Python 3",
   "language": "python",
   "name": "python3"
  },
  "language_info": {
   "codemirror_mode": {
    "name": "ipython",
    "version": 3
   },
   "file_extension": ".py",
   "mimetype": "text/x-python",
   "name": "python",
   "nbconvert_exporter": "python",
   "pygments_lexer": "ipython3",
   "version": "3.13.5"
  }
 },
 "nbformat": 4,
 "nbformat_minor": 5
}
