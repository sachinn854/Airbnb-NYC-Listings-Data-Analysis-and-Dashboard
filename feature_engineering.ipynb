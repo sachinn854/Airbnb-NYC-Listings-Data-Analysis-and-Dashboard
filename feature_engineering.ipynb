{
 "cells": [
  {
   "cell_type": "markdown",
   "id": "91dbc9f3",
   "metadata": {},
   "source": [
    "### Feature Engineering\n",
    "\n",
    "This step adds or changes data features to find deeper insights during analysis. It's not for modeling but to:\n",
    "\n",
    "- Find useful patterns  \n",
    "- Make visuals easier to understand  \n",
    "- Help interpret the data better  \n",
    "\n",
    "Examples of new features:\n",
    "\n",
    "- Review activity flags (has reviews or active months)  \n",
    "- Price categories  \n",
    "- Availability indicators (like available more than half a year)  \n",
    "- Groupings by region or room type  \n",
    "\n",
    "These help create clearer visuals and better comparisons in the data.  \n"
   ]
  },
  {
   "cell_type": "code",
   "execution_count": 1,
   "id": "c493cf56",
   "metadata": {},
   "outputs": [],
   "source": [
    "import pandas as pd"
   ]
  },
  {
   "cell_type": "code",
   "execution_count": 2,
   "id": "0ba68a8e",
   "metadata": {},
   "outputs": [],
   "source": [
    "df=pd.read_csv(\"AB_NYC_Cleaned.csv\")"
   ]
  },
  {
   "cell_type": "markdown",
   "id": "bfb44164",
   "metadata": {},
   "source": [
    "<div style=\"background-color: #fffbea; border-left: 4px solid #f9a825; padding: 12px; margin: 10px 0; color: #212121;\">\n",
    "  <h4 style=\"color: #f9a825; margin: 0;\">🔹 Feature Name: <code>has_review</code></h4>\n",
    "  <p style=\"margin: 8px 0;\"><strong>Logic:</strong><br>\n",
    "    If a listing has more than <code>0</code> reviews, it is marked as <code>1</code>; otherwise, it is marked as <code>0</code>.\n",
    "  </p>\n",
    "  <p style=\"margin: 8px 0;\"><strong>Purpose:</strong><br>\n",
    "    This feature helps distinguish between listings that have received feedback and those that haven’t. It is useful in understanding listing activity, popularity, and reliability.\n",
    "  </p>\n",
    "  <p style=\"margin: 8px 0;\"><strong>Why Useful for Visualization:</strong></p>\n",
    "  <ul style=\"margin: 0 0 0 20px; padding: 0; list-style-type: disc;\">\n",
    "    <li>Allows analysis of differences in price, room type, or availability between reviewed and non-reviewed listings.</li>\n",
    "    <li>Helpful for filtering and grouping during exploratory data analysis.</li>\n",
    "  </ul>\n",
    "</div>\n"
   ]
  },
  {
   "cell_type": "code",
   "execution_count": 3,
   "id": "d0fdb785",
   "metadata": {},
   "outputs": [],
   "source": [
    "# Create a new binary feature: has_review\n",
    "df['has_review'] = df['number_of_reviews'].apply(lambda x: 1 if x > 0 else 0)"
   ]
  },
  {
   "cell_type": "markdown",
   "id": "78fb9ad4",
   "metadata": {},
   "source": [
    "### Feature: `price_per_night`\n",
    "\n",
    "**Logic:**  \n",
    "Divide total price by minimum nights to get cost per night.\n",
    "\n",
    "**Purpose:**  \n",
    "Makes prices comparable across listings with different minimum stays.\n",
    "\n",
    "**Use in Visualizations:**  \n",
    "- Compare costs by room type and neighborhood group  \n",
    "- Identify overpriced or underpriced listings  \n"
   ]
  },
  {
   "cell_type": "code",
   "execution_count": 4,
   "id": "867f3328",
   "metadata": {},
   "outputs": [],
   "source": [
    "import numpy as np"
   ]
  },
  {
   "cell_type": "code",
   "execution_count": 6,
   "id": "70bbbf4a",
   "metadata": {},
   "outputs": [],
   "source": [
    "df['price_per_night'] = df.apply(\n",
    "    lambda row: row['price'] / row['minimum_nights'] if row['minimum_nights'] > 0 else np.nan,\n",
    "    axis=1\n",
    ")\n",
    "\n",
    "# Replace inf with NaN safely\n",
    "df['price_per_night'] = df['price_per_night'].replace([np.inf, -np.inf], np.nan)\n"
   ]
  },
  {
   "cell_type": "markdown",
   "id": "f7742c05",
   "metadata": {},
   "source": [
    "### Feature: `active_listing`\n",
    "\n",
    "**Logic:**  \n",
    "If `availability_365 > 0`, then `active_listing = 1`, else `0`.\n",
    "\n",
    "**Purpose:**  \n",
    "Marks listings that are currently available for booking.\n",
    "\n",
    "**Use in Visualizations:**  \n",
    "- Filter listings that are active  \n",
    "- Study availability by room type or neighborhood  \n",
    "- Analyze host market presence  \n"
   ]
  },
  {
   "cell_type": "code",
   "execution_count": 7,
   "id": "a9927390",
   "metadata": {},
   "outputs": [],
   "source": [
    "df['active_listing'] = df['availability_365'].apply(lambda x: 1 if x > 0 else 0)\n"
   ]
  },
  {
   "cell_type": "markdown",
   "id": "acf92891",
   "metadata": {},
   "source": [
    "### Feature: `seasonal_availability`\n",
    "\n",
    "**Logic:**  \n",
    "Group `availability_365` into categories like low, medium, and high availability.\n",
    "\n",
    "**Purpose:**  \n",
    "Turns numeric availability into simple labels for easier analysis.\n",
    "\n",
    "**Use in Visualizations:**  \n",
    "- Show listing counts by availability category  \n",
    "- Compare patterns by room type and neighborhood  \n"
   ]
  },
  {
   "cell_type": "code",
   "execution_count": 8,
   "id": "46e73f09",
   "metadata": {},
   "outputs": [],
   "source": [
    "def categorize_availability(x):\n",
    "    if x == 0:\n",
    "        return 'Not Available'\n",
    "    elif x <= 120:\n",
    "        return 'Low'\n",
    "    elif x <= 240:\n",
    "        return 'Medium'\n",
    "    else:\n",
    "        return 'High'\n",
    "\n",
    "df['seasonal_availability'] = df['availability_365'].apply(categorize_availability)\n"
   ]
  },
  {
   "cell_type": "markdown",
   "id": "3ba9d3cf",
   "metadata": {},
   "source": [
    "### Feature: `is_entire_home`\n",
    "\n",
    "**Logic:**  \n",
    "A binary flag: 1 means Entire home/apt, 0 means other types.\n",
    "\n",
    "**Purpose:**  \n",
    "Shows whether a listing offers full privacy or shared space.\n",
    "\n",
    "**Use in Visualizations:**  \n",
    "- Compare price or availability for private vs shared spaces  \n",
    "- Filter or group listings by privacy type  \n"
   ]
  },
  {
   "cell_type": "code",
   "execution_count": 9,
   "id": "df61ad17",
   "metadata": {},
   "outputs": [],
   "source": [
    "df['is_entire_home'] = (df['room_type'] == 'Entire home/apt').astype(int)\n"
   ]
  },
  {
   "cell_type": "code",
   "execution_count": 10,
   "id": "06852851",
   "metadata": {},
   "outputs": [],
   "source": [
    "df.to_csv(\"AB_NYC_Featured.csv\",index=False)"
   ]
  },
  {
   "cell_type": "markdown",
   "id": "6b9ae119",
   "metadata": {},
   "source": [
    "### Conclusion – Feature Engineering\n",
    "\n",
    "We created new features to better understand the Airbnb data and improve visualizations:\n",
    "\n",
    "- `has_review` and `active_listing` show if listings are active or inactive.  \n",
    "- `price_per_night` adjusts price based on minimum stay for fair comparison.  \n",
    "- `seasonal_availability` groups listings by how often they are available during the year.  \n",
    "- Binary features like `is_entire_home` help separate listings by type.\n",
    "\n",
    "These features deepen our analysis and support clearer insights in later steps.\n"
   ]
  }
 ],
 "metadata": {
  "kernelspec": {
   "display_name": "Python 3",
   "language": "python",
   "name": "python3"
  },
  "language_info": {
   "codemirror_mode": {
    "name": "ipython",
    "version": 3
   },
   "file_extension": ".py",
   "mimetype": "text/x-python",
   "name": "python",
   "nbconvert_exporter": "python",
   "pygments_lexer": "ipython3",
   "version": "3.13.5"
  }
 },
 "nbformat": 4,
 "nbformat_minor": 5
}
