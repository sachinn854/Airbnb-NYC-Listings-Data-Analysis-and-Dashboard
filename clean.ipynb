{
 "cells": [
  {
   "cell_type": "markdown",
   "id": "29cbb525",
   "metadata": {},
   "source": [
    "<h1 style=\"font-size: 2.6em; color: #008080; border-bottom: 4px solid #006666; padding-bottom: 15px; margin-bottom: 30px; font-weight: 700; text-shadow: 1px 1px 2px rgba(0,0,0,0.1);\">\n",
    "  1. Data Loading and Initial Inspection 📊\n",
    "</h1>\n"
   ]
  },
  {
   "cell_type": "code",
   "execution_count": 1,
   "id": "db24547a",
   "metadata": {},
   "outputs": [],
   "source": [
    "import pandas as pd"
   ]
  },
  {
   "cell_type": "code",
   "execution_count": 2,
   "id": "ec22e5e1",
   "metadata": {},
   "outputs": [],
   "source": [
    "df=pd.read_csv(\"AB_NYC_2019.csv\")\n"
   ]
  },
  {
   "cell_type": "code",
   "execution_count": 3,
   "id": "35abd1a0",
   "metadata": {},
   "outputs": [
    {
     "data": {
      "text/html": [
       "<div>\n",
       "<style scoped>\n",
       "    .dataframe tbody tr th:only-of-type {\n",
       "        vertical-align: middle;\n",
       "    }\n",
       "\n",
       "    .dataframe tbody tr th {\n",
       "        vertical-align: top;\n",
       "    }\n",
       "\n",
       "    .dataframe thead th {\n",
       "        text-align: right;\n",
       "    }\n",
       "</style>\n",
       "<table border=\"1\" class=\"dataframe\">\n",
       "  <thead>\n",
       "    <tr style=\"text-align: right;\">\n",
       "      <th></th>\n",
       "      <th>id</th>\n",
       "      <th>name</th>\n",
       "      <th>host_id</th>\n",
       "      <th>host_name</th>\n",
       "      <th>neighbourhood_group</th>\n",
       "      <th>neighbourhood</th>\n",
       "      <th>latitude</th>\n",
       "      <th>longitude</th>\n",
       "      <th>room_type</th>\n",
       "      <th>price</th>\n",
       "      <th>minimum_nights</th>\n",
       "      <th>number_of_reviews</th>\n",
       "      <th>last_review</th>\n",
       "      <th>reviews_per_month</th>\n",
       "      <th>calculated_host_listings_count</th>\n",
       "      <th>availability_365</th>\n",
       "    </tr>\n",
       "  </thead>\n",
       "  <tbody>\n",
       "    <tr>\n",
       "      <th>0</th>\n",
       "      <td>2539</td>\n",
       "      <td>Clean &amp; quiet apt home by the park</td>\n",
       "      <td>2787</td>\n",
       "      <td>John</td>\n",
       "      <td>Brooklyn</td>\n",
       "      <td>Kensington</td>\n",
       "      <td>40.64749</td>\n",
       "      <td>-73.97237</td>\n",
       "      <td>Private room</td>\n",
       "      <td>149.0</td>\n",
       "      <td>1.0</td>\n",
       "      <td>9</td>\n",
       "      <td>2018-10-19</td>\n",
       "      <td>0.21</td>\n",
       "      <td>6</td>\n",
       "      <td>365.0</td>\n",
       "    </tr>\n",
       "    <tr>\n",
       "      <th>1</th>\n",
       "      <td>2595</td>\n",
       "      <td>Skylit Midtown Castle</td>\n",
       "      <td>2845</td>\n",
       "      <td>Jennifer</td>\n",
       "      <td>Manhattan</td>\n",
       "      <td>Midtown</td>\n",
       "      <td>40.75362</td>\n",
       "      <td>-73.98377</td>\n",
       "      <td>Entire home/apt</td>\n",
       "      <td>225.0</td>\n",
       "      <td>1.0</td>\n",
       "      <td>45</td>\n",
       "      <td>2019-05-21</td>\n",
       "      <td>0.38</td>\n",
       "      <td>2</td>\n",
       "      <td>355.0</td>\n",
       "    </tr>\n",
       "    <tr>\n",
       "      <th>2</th>\n",
       "      <td>3647</td>\n",
       "      <td>THE VILLAGE OF HARLEM....NEW YORK !</td>\n",
       "      <td>4632</td>\n",
       "      <td>Elisabeth</td>\n",
       "      <td>Manhattan</td>\n",
       "      <td>Harlem</td>\n",
       "      <td>40.80902</td>\n",
       "      <td>-73.94190</td>\n",
       "      <td>Private room</td>\n",
       "      <td>150.0</td>\n",
       "      <td>3.0</td>\n",
       "      <td>0</td>\n",
       "      <td>NaN</td>\n",
       "      <td>NaN</td>\n",
       "      <td>1</td>\n",
       "      <td>365.0</td>\n",
       "    </tr>\n",
       "    <tr>\n",
       "      <th>3</th>\n",
       "      <td>3831</td>\n",
       "      <td>Cozy Entire Floor of Brownstone</td>\n",
       "      <td>4869</td>\n",
       "      <td>LisaRoxanne</td>\n",
       "      <td>Brooklyn</td>\n",
       "      <td>Clinton Hill</td>\n",
       "      <td>40.68514</td>\n",
       "      <td>-73.95976</td>\n",
       "      <td>Entire home/apt</td>\n",
       "      <td>89.0</td>\n",
       "      <td>1.0</td>\n",
       "      <td>270</td>\n",
       "      <td>2019-07-05</td>\n",
       "      <td>4.64</td>\n",
       "      <td>1</td>\n",
       "      <td>194.0</td>\n",
       "    </tr>\n",
       "    <tr>\n",
       "      <th>4</th>\n",
       "      <td>5022</td>\n",
       "      <td>Entire Apt: Spacious Studio/Loft by central park</td>\n",
       "      <td>7192</td>\n",
       "      <td>Laura</td>\n",
       "      <td>Manhattan</td>\n",
       "      <td>East Harlem</td>\n",
       "      <td>40.79851</td>\n",
       "      <td>-73.94399</td>\n",
       "      <td>Entire home/apt</td>\n",
       "      <td>80.0</td>\n",
       "      <td>10.0</td>\n",
       "      <td>9</td>\n",
       "      <td>NaN</td>\n",
       "      <td>NaN</td>\n",
       "      <td>1</td>\n",
       "      <td>0.0</td>\n",
       "    </tr>\n",
       "  </tbody>\n",
       "</table>\n",
       "</div>"
      ],
      "text/plain": [
       "     id                                              name  host_id  \\\n",
       "0  2539                Clean & quiet apt home by the park     2787   \n",
       "1  2595                             Skylit Midtown Castle     2845   \n",
       "2  3647               THE VILLAGE OF HARLEM....NEW YORK !     4632   \n",
       "3  3831                   Cozy Entire Floor of Brownstone     4869   \n",
       "4  5022  Entire Apt: Spacious Studio/Loft by central park     7192   \n",
       "\n",
       "     host_name neighbourhood_group neighbourhood  latitude  longitude  \\\n",
       "0         John            Brooklyn    Kensington  40.64749  -73.97237   \n",
       "1     Jennifer           Manhattan       Midtown  40.75362  -73.98377   \n",
       "2    Elisabeth           Manhattan        Harlem  40.80902  -73.94190   \n",
       "3  LisaRoxanne            Brooklyn  Clinton Hill  40.68514  -73.95976   \n",
       "4        Laura           Manhattan   East Harlem  40.79851  -73.94399   \n",
       "\n",
       "         room_type  price  minimum_nights  number_of_reviews last_review  \\\n",
       "0     Private room  149.0             1.0                  9  2018-10-19   \n",
       "1  Entire home/apt  225.0             1.0                 45  2019-05-21   \n",
       "2     Private room  150.0             3.0                  0         NaN   \n",
       "3  Entire home/apt   89.0             1.0                270  2019-07-05   \n",
       "4  Entire home/apt   80.0            10.0                  9         NaN   \n",
       "\n",
       "   reviews_per_month  calculated_host_listings_count  availability_365  \n",
       "0               0.21                               6             365.0  \n",
       "1               0.38                               2             355.0  \n",
       "2                NaN                               1             365.0  \n",
       "3               4.64                               1             194.0  \n",
       "4                NaN                               1               0.0  "
      ]
     },
     "execution_count": 3,
     "metadata": {},
     "output_type": "execute_result"
    }
   ],
   "source": [
    "df.head()"
   ]
  },
  {
   "cell_type": "code",
   "execution_count": 4,
   "id": "e21973a3",
   "metadata": {},
   "outputs": [
    {
     "name": "stdout",
     "output_type": "stream",
     "text": [
      "<class 'pandas.core.frame.DataFrame'>\n",
      "RangeIndex: 48895 entries, 0 to 48894\n",
      "Data columns (total 16 columns):\n",
      " #   Column                          Non-Null Count  Dtype  \n",
      "---  ------                          --------------  -----  \n",
      " 0   id                              48895 non-null  int64  \n",
      " 1   name                            48879 non-null  object \n",
      " 2   host_id                         48895 non-null  int64  \n",
      " 3   host_name                       46430 non-null  object \n",
      " 4   neighbourhood_group             47917 non-null  object \n",
      " 5   neighbourhood                   48895 non-null  object \n",
      " 6   latitude                        48895 non-null  float64\n",
      " 7   longitude                       48895 non-null  float64\n",
      " 8   room_type                       47428 non-null  object \n",
      " 9   price                           47917 non-null  float64\n",
      " 10  minimum_nights                  48406 non-null  float64\n",
      " 11  number_of_reviews               48895 non-null  int64  \n",
      " 12  last_review                     34962 non-null  object \n",
      " 13  reviews_per_month               34962 non-null  float64\n",
      " 14  calculated_host_listings_count  48895 non-null  int64  \n",
      " 15  availability_365                48406 non-null  float64\n",
      "dtypes: float64(6), int64(4), object(6)\n",
      "memory usage: 6.0+ MB\n"
     ]
    }
   ],
   "source": [
    "df.info()"
   ]
  },
  {
   "cell_type": "code",
   "execution_count": 5,
   "id": "5c47ae1c",
   "metadata": {},
   "outputs": [
    {
     "data": {
      "text/plain": [
       "(48895, 16)"
      ]
     },
     "execution_count": 5,
     "metadata": {},
     "output_type": "execute_result"
    }
   ],
   "source": [
    "df.shape"
   ]
  },
  {
   "cell_type": "code",
   "execution_count": 6,
   "id": "1f894f37",
   "metadata": {},
   "outputs": [
    {
     "data": {
      "text/html": [
       "<div>\n",
       "<style scoped>\n",
       "    .dataframe tbody tr th:only-of-type {\n",
       "        vertical-align: middle;\n",
       "    }\n",
       "\n",
       "    .dataframe tbody tr th {\n",
       "        vertical-align: top;\n",
       "    }\n",
       "\n",
       "    .dataframe thead th {\n",
       "        text-align: right;\n",
       "    }\n",
       "</style>\n",
       "<table border=\"1\" class=\"dataframe\">\n",
       "  <thead>\n",
       "    <tr style=\"text-align: right;\">\n",
       "      <th></th>\n",
       "      <th>id</th>\n",
       "      <th>host_id</th>\n",
       "      <th>latitude</th>\n",
       "      <th>longitude</th>\n",
       "      <th>price</th>\n",
       "      <th>minimum_nights</th>\n",
       "      <th>number_of_reviews</th>\n",
       "      <th>reviews_per_month</th>\n",
       "      <th>calculated_host_listings_count</th>\n",
       "      <th>availability_365</th>\n",
       "    </tr>\n",
       "  </thead>\n",
       "  <tbody>\n",
       "    <tr>\n",
       "      <th>count</th>\n",
       "      <td>4.889500e+04</td>\n",
       "      <td>4.889500e+04</td>\n",
       "      <td>48895.000000</td>\n",
       "      <td>48895.000000</td>\n",
       "      <td>47917.000000</td>\n",
       "      <td>48406.000000</td>\n",
       "      <td>48895.000000</td>\n",
       "      <td>34962.000000</td>\n",
       "      <td>48895.000000</td>\n",
       "      <td>48406.000000</td>\n",
       "    </tr>\n",
       "    <tr>\n",
       "      <th>mean</th>\n",
       "      <td>1.901714e+07</td>\n",
       "      <td>6.762001e+07</td>\n",
       "      <td>40.728949</td>\n",
       "      <td>-73.952170</td>\n",
       "      <td>152.567189</td>\n",
       "      <td>7.041235</td>\n",
       "      <td>23.274466</td>\n",
       "      <td>1.375617</td>\n",
       "      <td>7.143982</td>\n",
       "      <td>112.719436</td>\n",
       "    </tr>\n",
       "    <tr>\n",
       "      <th>std</th>\n",
       "      <td>1.098311e+07</td>\n",
       "      <td>7.861097e+07</td>\n",
       "      <td>0.054530</td>\n",
       "      <td>0.046157</td>\n",
       "      <td>238.457325</td>\n",
       "      <td>20.584568</td>\n",
       "      <td>44.550582</td>\n",
       "      <td>1.676428</td>\n",
       "      <td>32.952519</td>\n",
       "      <td>131.625467</td>\n",
       "    </tr>\n",
       "    <tr>\n",
       "      <th>min</th>\n",
       "      <td>2.539000e+03</td>\n",
       "      <td>2.438000e+03</td>\n",
       "      <td>40.499790</td>\n",
       "      <td>-74.244420</td>\n",
       "      <td>0.000000</td>\n",
       "      <td>1.000000</td>\n",
       "      <td>0.000000</td>\n",
       "      <td>0.010000</td>\n",
       "      <td>1.000000</td>\n",
       "      <td>0.000000</td>\n",
       "    </tr>\n",
       "    <tr>\n",
       "      <th>25%</th>\n",
       "      <td>9.471945e+06</td>\n",
       "      <td>7.822033e+06</td>\n",
       "      <td>40.690100</td>\n",
       "      <td>-73.983070</td>\n",
       "      <td>69.000000</td>\n",
       "      <td>1.000000</td>\n",
       "      <td>1.000000</td>\n",
       "      <td>0.190000</td>\n",
       "      <td>1.000000</td>\n",
       "      <td>0.000000</td>\n",
       "    </tr>\n",
       "    <tr>\n",
       "      <th>50%</th>\n",
       "      <td>1.967728e+07</td>\n",
       "      <td>3.079382e+07</td>\n",
       "      <td>40.723070</td>\n",
       "      <td>-73.955680</td>\n",
       "      <td>106.000000</td>\n",
       "      <td>3.000000</td>\n",
       "      <td>5.000000</td>\n",
       "      <td>0.720000</td>\n",
       "      <td>1.000000</td>\n",
       "      <td>45.000000</td>\n",
       "    </tr>\n",
       "    <tr>\n",
       "      <th>75%</th>\n",
       "      <td>2.915218e+07</td>\n",
       "      <td>1.074344e+08</td>\n",
       "      <td>40.763115</td>\n",
       "      <td>-73.936275</td>\n",
       "      <td>175.000000</td>\n",
       "      <td>5.000000</td>\n",
       "      <td>24.000000</td>\n",
       "      <td>2.020000</td>\n",
       "      <td>2.000000</td>\n",
       "      <td>227.000000</td>\n",
       "    </tr>\n",
       "    <tr>\n",
       "      <th>max</th>\n",
       "      <td>3.648724e+07</td>\n",
       "      <td>2.743213e+08</td>\n",
       "      <td>40.913060</td>\n",
       "      <td>-73.712990</td>\n",
       "      <td>10000.000000</td>\n",
       "      <td>1250.000000</td>\n",
       "      <td>629.000000</td>\n",
       "      <td>58.500000</td>\n",
       "      <td>327.000000</td>\n",
       "      <td>365.000000</td>\n",
       "    </tr>\n",
       "  </tbody>\n",
       "</table>\n",
       "</div>"
      ],
      "text/plain": [
       "                 id       host_id      latitude     longitude         price  \\\n",
       "count  4.889500e+04  4.889500e+04  48895.000000  48895.000000  47917.000000   \n",
       "mean   1.901714e+07  6.762001e+07     40.728949    -73.952170    152.567189   \n",
       "std    1.098311e+07  7.861097e+07      0.054530      0.046157    238.457325   \n",
       "min    2.539000e+03  2.438000e+03     40.499790    -74.244420      0.000000   \n",
       "25%    9.471945e+06  7.822033e+06     40.690100    -73.983070     69.000000   \n",
       "50%    1.967728e+07  3.079382e+07     40.723070    -73.955680    106.000000   \n",
       "75%    2.915218e+07  1.074344e+08     40.763115    -73.936275    175.000000   \n",
       "max    3.648724e+07  2.743213e+08     40.913060    -73.712990  10000.000000   \n",
       "\n",
       "       minimum_nights  number_of_reviews  reviews_per_month  \\\n",
       "count    48406.000000       48895.000000       34962.000000   \n",
       "mean         7.041235          23.274466           1.375617   \n",
       "std         20.584568          44.550582           1.676428   \n",
       "min          1.000000           0.000000           0.010000   \n",
       "25%          1.000000           1.000000           0.190000   \n",
       "50%          3.000000           5.000000           0.720000   \n",
       "75%          5.000000          24.000000           2.020000   \n",
       "max       1250.000000         629.000000          58.500000   \n",
       "\n",
       "       calculated_host_listings_count  availability_365  \n",
       "count                    48895.000000      48406.000000  \n",
       "mean                         7.143982        112.719436  \n",
       "std                         32.952519        131.625467  \n",
       "min                          1.000000          0.000000  \n",
       "25%                          1.000000          0.000000  \n",
       "50%                          1.000000         45.000000  \n",
       "75%                          2.000000        227.000000  \n",
       "max                        327.000000        365.000000  "
      ]
     },
     "execution_count": 6,
     "metadata": {},
     "output_type": "execute_result"
    }
   ],
   "source": [
    "df.describe()"
   ]
  },
  {
   "cell_type": "code",
   "execution_count": 7,
   "id": "f0cf5d13",
   "metadata": {},
   "outputs": [
    {
     "data": {
      "text/plain": [
       "id                                    0\n",
       "name                                 16\n",
       "host_id                               0\n",
       "host_name                          2465\n",
       "neighbourhood_group                 978\n",
       "neighbourhood                         0\n",
       "latitude                              0\n",
       "longitude                             0\n",
       "room_type                          1467\n",
       "price                               978\n",
       "minimum_nights                      489\n",
       "number_of_reviews                     0\n",
       "last_review                       13933\n",
       "reviews_per_month                 13933\n",
       "calculated_host_listings_count        0\n",
       "availability_365                    489\n",
       "dtype: int64"
      ]
     },
     "execution_count": 7,
     "metadata": {},
     "output_type": "execute_result"
    }
   ],
   "source": [
    "df.isnull().sum()"
   ]
  },
  {
   "cell_type": "code",
   "execution_count": 8,
   "id": "53e401bc",
   "metadata": {},
   "outputs": [
    {
     "data": {
      "text/plain": [
       "id                                48895\n",
       "name                              47905\n",
       "host_id                           37457\n",
       "host_name                         11129\n",
       "neighbourhood_group                   5\n",
       "neighbourhood                       221\n",
       "latitude                          19048\n",
       "longitude                         14718\n",
       "room_type                             3\n",
       "price                               671\n",
       "minimum_nights                      108\n",
       "number_of_reviews                   394\n",
       "last_review                        1731\n",
       "reviews_per_month                   915\n",
       "calculated_host_listings_count       47\n",
       "availability_365                    366\n",
       "dtype: int64"
      ]
     },
     "execution_count": 8,
     "metadata": {},
     "output_type": "execute_result"
    }
   ],
   "source": [
    "df.nunique()"
   ]
  },
  {
   "cell_type": "code",
   "execution_count": 9,
   "id": "f2c4d003",
   "metadata": {},
   "outputs": [
    {
     "name": "stdout",
     "output_type": "stream",
     "text": [
      "reviews_per_month      28.495756\n",
      "last_review            28.495756\n",
      "host_name               5.041415\n",
      "room_type               3.000307\n",
      "price                   2.000205\n",
      "neighbourhood_group     2.000205\n",
      "minimum_nights          1.000102\n",
      "availability_365        1.000102\n",
      "name                    0.032723\n",
      "dtype: float64\n"
     ]
    }
   ],
   "source": [
    "missing_percent = df.isnull().mean() * 100\n",
    "missing_percent = missing_percent[missing_percent > 0].sort_values(ascending=False)\n",
    "\n",
    "print(missing_percent)\n"
   ]
  },
  {
   "cell_type": "markdown",
   "id": "4fc9b11b",
   "metadata": {},
   "source": [
    "\n",
    "<h1 style=\"font-size: 2.6em; color: #008080; border-bottom: 4px solid #006666; padding-bottom: 15px; margin-bottom: 30px; font-weight: 700; text-shadow: 1px 1px 2px rgba(0,0,0,0.1);\">\n",
    "  2. Handling Missing Values\n",
    "</h1>\n"
   ]
  },
  {
   "cell_type": "code",
   "execution_count": 10,
   "id": "ad2c469e",
   "metadata": {},
   "outputs": [],
   "source": [
    "df['name'] = df['name'].fillna('Unnamed')"
   ]
  },
  {
   "cell_type": "markdown",
   "id": "63b4e3e4",
   "metadata": {},
   "source": [
    "<div style=\"font-family: 'Segoe UI', Tahoma, Geneva, Verdana, sans-serif; background-color: #f0f8ff; color: #2e3d49; padding: 20px; border-radius: 10px; border-left: 6px solid #007acc; margin-top: 40px; box-shadow: 0 4px 12px rgba(0, 122, 204, 0.12);\">\n",
    "\n",
    "  <h2 style=\"font-size: 1.8em; color: #007acc; margin-bottom: 12px;\">\n",
    "    Handling Missing Names\n",
    "  </h2>\n",
    "\n",
    "  <p style=\"font-size: 1.05em; line-height: 1.6;\">\n",
    "    The <strong>name</strong> column refers to the listing title. Filling missing names with <strong>\"Unnamed\"</strong> keeps the dataset consistent without losing records, and clearly indicates that a name was originally not provided.\n",
    "  </p>\n",
    "\n",
    "</div>\n"
   ]
  },
  {
   "cell_type": "code",
   "execution_count": 11,
   "id": "e27885f4",
   "metadata": {},
   "outputs": [],
   "source": [
    "df['host_name'] = df['host_name'].fillna('Unknown_host')"
   ]
  },
  {
   "cell_type": "markdown",
   "id": "844b98a8",
   "metadata": {},
   "source": [
    "<div style=\"font-family: 'Segoe UI', Tahoma, Geneva, Verdana, sans-serif; background-color: #fffaf0; color: #3c2f1c; padding: 20px; border-radius: 10px; border-left: 6px solid #ff9800; margin-top: 30px; box-shadow: 0 4px 12px rgba(255, 152, 0, 0.12);\">\n",
    "\n",
    "  <h2 style=\"font-size: 1.8em; color: #ff9800; margin-bottom: 12px;\">\n",
    "    🔎 Reason: Handling Missing Host Names\n",
    "  </h2>\n",
    "\n",
    "  <p style=\"font-size: 1.05em; line-height: 1.6;\">\n",
    "    The <strong>host_name</strong> column identifies the name of the person hosting the listing. Replacing missing values with <strong>\"Unknown_host\"</strong> ensures the data remains complete while clearly marking entries with missing host names.\n",
    "  </p>\n",
    "\n",
    "</div>\n"
   ]
  },
  {
   "cell_type": "code",
   "execution_count": 12,
   "id": "c8702a0c",
   "metadata": {},
   "outputs": [],
   "source": [
    "df['neighbourhood_group'] = df['neighbourhood_group'].fillna(df['neighbourhood_group'].mode()[0])\n"
   ]
  },
  {
   "cell_type": "markdown",
   "id": "5f9006ef",
   "metadata": {},
   "source": [
    "<div style=\"font-family: 'Segoe UI', Tahoma, Geneva, Verdana, sans-serif; background-color: #f0fff4; color: #1e4d2b; padding: 20px; border-left: 5px solid #38a169; border-radius: 8px; box-shadow: 0 2px 6px rgba(0, 128, 0, 0.1); margin-top: 30px;\">\n",
    "\n",
    "  <h2 style=\"font-size: 1.8em; margin-bottom: 15px; color: #276749;\">\n",
    "    🧩 neighbourhood_group Column Imputation\n",
    "  </h2>\n",
    "\n",
    "\n",
    "  <p style=\"margin-top: 10px;\">\n",
    "    🔎 <strong>Reason:</strong><br>\n",
    "    Since <code>neighbourhood_group</code> is a categorical variable, filling missing values with the <strong>mode</strong> (most frequent group) is a standard and reliable method. It maintains consistency in the dataset without introducing any new or artificial categories unless necessary.\n",
    "  </p>\n",
    "\n",
    "</div>\n"
   ]
  },
  {
   "cell_type": "code",
   "execution_count": 13,
   "id": "426d0138",
   "metadata": {},
   "outputs": [],
   "source": [
    "df['room_type'] = df['room_type'].fillna(df['room_type'].mode()[0])\n"
   ]
  },
  {
   "cell_type": "markdown",
   "id": "781f1f57",
   "metadata": {},
   "source": [
    "<div style=\"font-family: 'Segoe UI', Tahoma, Geneva, Verdana, sans-serif; background-color: #f0fff4; color: #1e4d2b; padding: 20px; border-left: 5px solid #38a169; border-radius: 8px; box-shadow: 0 2px 6px rgba(0, 128, 0, 0.1); margin-top: 30px;\">\n",
    "\n",
    "  <h2 style=\"font-size: 1.8em; margin-bottom: 15px; color: #276749;\">\n",
    "    🧩 room_type Column Imputation\n",
    "  </h2>\n",
    "\n",
    "  <p style=\"margin-top: 10px;\">\n",
    "    🔎 <strong>Reason:</strong><br>\n",
    "    <code>room_type</code> is a categorical column, and using the most frequent value helps fill in missing entries logically. This prevents data loss and maintains the natural distribution of room categories.\n",
    "  </p>\n",
    "\n",
    "</div>\n"
   ]
  },
  {
   "cell_type": "code",
   "execution_count": 14,
   "id": "11c1de9b",
   "metadata": {},
   "outputs": [],
   "source": [
    "df['price'] = df['price'].fillna(df['price'].median())\n"
   ]
  },
  {
   "cell_type": "markdown",
   "id": "d77109ad",
   "metadata": {},
   "source": [
    "<div style=\"font-family: 'Segoe UI', Tahoma, Geneva, Verdana, sans-serif; background-color: #fff5f5; color: #7b241c; padding: 20px; border-left: 5px solid #e74c3c; border-radius: 8px; box-shadow: 0 2px 6px rgba(255, 0, 0, 0.1); margin-top: 30px;\">\n",
    "\n",
    "  <h2 style=\"font-size: 1.8em; margin-bottom: 15px; color: #c0392b;\">\n",
    "    💰 price Column Imputation\n",
    "  </h2>\n",
    "\n",
    "\n",
    "  <p style=\"margin-top: 10px;\">\n",
    "    🔎 <strong>Reason:</strong> Median handles outliers better than mean in skewed price distributions.\n",
    "  </p>\n",
    "\n",
    "  <p>\n",
    "    💡 <strong>Tip:</strong> For better accuracy, try KNN or regression-based imputation using features like <code>room_type</code> or <code>neighbourhood</code>.\n",
    "  </p>\n",
    "\n",
    "</div>\n"
   ]
  },
  {
   "cell_type": "code",
   "execution_count": 15,
   "id": "fc74f9e3",
   "metadata": {},
   "outputs": [],
   "source": [
    "df['minimum_nights'] = df['minimum_nights'].fillna(df['minimum_nights'].median())\n"
   ]
  },
  {
   "cell_type": "markdown",
   "id": "4c6c9b91",
   "metadata": {},
   "source": [
    "<div style=\"font-family: 'Segoe UI', Tahoma, Geneva, Verdana, sans-serif; background-color: #f5fff8; color: #196f3d; padding: 20px; border-left: 5px solid #28b463; border-radius: 8px; box-shadow: 0 2px 6px rgba(0, 128, 0, 0.1); margin-top: 30px;\">\n",
    "\n",
    "  <h2 style=\"font-size: 1.8em; margin-bottom: 15px; color: #239b56;\">\n",
    "    🛏️ minimum_nights Column Imputation\n",
    "  </h2>\n",
    "\n",
    "\n",
    "  <p style=\"margin-top: 10px;\">\n",
    "    🔎 <strong>Reason:</strong> Median reduces the effect of outliers like long stays and gives a more typical value.\n",
    "  </p>\n",
    "\n",
    "</div>\n"
   ]
  },
  {
   "cell_type": "code",
   "execution_count": 16,
   "id": "66f26930",
   "metadata": {},
   "outputs": [],
   "source": [
    "df['availability_365'] = df['availability_365'].fillna(df['availability_365'].median())\n"
   ]
  },
  {
   "cell_type": "markdown",
   "id": "d66172d1",
   "metadata": {},
   "source": [
    "<div style=\"font-family: 'Segoe UI', Tahoma, Geneva, Verdana, sans-serif; background-color: #f9f9ff; color: #1a237e; padding: 20px; border-left: 5px solid #3f51b5; border-radius: 8px; box-shadow: 0 2px 6px rgba(63, 81, 181, 0.1); margin-top: 30px;\">\n",
    "\n",
    "  <h2 style=\"font-size: 1.8em; margin-bottom: 15px; color: #303f9f;\">\n",
    "    📅 availability_365 Column Imputation\n",
    "  </h2>\n",
    "\n",
    "  \n",
    "  <p style=\"margin-top: 10px;\">\n",
    "    🔎 <strong>Reason:</strong> Median provides a stable estimate across varied listing availabilities.\n",
    "    If missing implies not available, consider using <code>0</code> instead.\n",
    "  </p>\n",
    "\n",
    "</div>\n"
   ]
  },
  {
   "cell_type": "markdown",
   "id": "0434fd69",
   "metadata": {},
   "source": [
    "<div style=\"background-color: #f9f9f9; border-left: 4px solid #4CAF50; padding: 12px; margin: 10px 0; color: #1a1a1a;\">\n",
    "  <h4 style=\"color: #4CAF50; margin: 0;\">✅ Task:</h4>\n",
    "  <p style=\"margin: 6px 0;\">\n",
    "    For rows where <code>last_review</code> is missing (<code>NaN</code>) and <code>number_of_reviews &gt; 0</code>, fill <code>last_review</code> with a random realistic date based on existing non-missing <code>last_review</code> values (e.g., from the most frequent or typical range).\n",
    "  </p>\n",
    "  <p style=\"margin: 6px 0;\">\n",
    "    Leave the rest (<code>number_of_reviews == 0</code>) unchanged.\n",
    "  </p>\n",
    "</div>\n"
   ]
  },
  {
   "cell_type": "code",
   "execution_count": 17,
   "id": "3315568a",
   "metadata": {},
   "outputs": [],
   "source": [
    "import numpy as np\n",
    "\n",
    "# Ensure last_review is in datetime format\n",
    "df['last_review'] = pd.to_datetime(df['last_review'], errors='coerce')\n",
    "\n",
    "# Filter non-null last_review values to sample from\n",
    "valid_dates = df['last_review'].dropna()\n",
    "\n",
    "# Condition: missing last_review AND number_of_reviews > 0\n",
    "mask = df['last_review'].isna() & (df['number_of_reviews'] > 0)\n",
    "\n",
    "# Randomly assign from existing valid dates\n",
    "df.loc[mask, 'last_review'] = np.random.choice(valid_dates, size=mask.sum())\n"
   ]
  },
  {
   "cell_type": "code",
   "execution_count": 18,
   "id": "f7e3ecd1",
   "metadata": {},
   "outputs": [
    {
     "data": {
      "text/plain": [
       "id                                    0\n",
       "name                                  0\n",
       "host_id                               0\n",
       "host_name                             0\n",
       "neighbourhood_group                   0\n",
       "neighbourhood                         0\n",
       "latitude                              0\n",
       "longitude                             0\n",
       "room_type                             0\n",
       "price                                 0\n",
       "minimum_nights                        0\n",
       "number_of_reviews                     0\n",
       "last_review                       10052\n",
       "reviews_per_month                 13933\n",
       "calculated_host_listings_count        0\n",
       "availability_365                      0\n",
       "dtype: int64"
      ]
     },
     "execution_count": 18,
     "metadata": {},
     "output_type": "execute_result"
    }
   ],
   "source": [
    "df.isnull().sum()"
   ]
  },
  {
   "cell_type": "code",
   "execution_count": 19,
   "id": "9ee86981",
   "metadata": {},
   "outputs": [
    {
     "name": "stdout",
     "output_type": "stream",
     "text": [
      "Number of listings with 0 reviews: 10052\n"
     ]
    }
   ],
   "source": [
    "zero_reviews_count = (df['number_of_reviews'] == 0).sum()\n",
    "print(\"Number of listings with 0 reviews:\", zero_reviews_count)\n"
   ]
  },
  {
   "cell_type": "markdown",
   "id": "5397b124",
   "metadata": {},
   "source": [
    "<div style=\"background-color: #f9f9f9; border-left: 4px solid #2196F3; padding: 12px; margin: 10px 0; color: #1a1a1a;\">\n",
    "  <h4 style=\"color: #2196F3; margin: 0;\">✅ Reason:</h4>\n",
    "  <p style=\"margin: 6px 0;\">\n",
    "    We should not fill the remaining missing values in the <code>last_review</code> column because their corresponding <code>number_of_reviews</code> is 0, which logically means that the listing has never been reviewed.\n",
    "  </p>\n",
    "  <p style=\"margin: 6px 0;\">\n",
    "    Since no review has ever been submitted for these listings, there is no valid \"last review date\" to assign. Filling <code>last_review</code> in such cases would introduce inaccurate and misleading data, suggesting that a review exists when it doesn't.\n",
    "  </p>\n",
    "  <p style=\"margin: 6px 0;\">\n",
    "    Therefore, leaving these entries as <code>NaN</code> preserves the factual integrity of the dataset.\n",
    "  </p>\n",
    "</div>\n"
   ]
  },
  {
   "cell_type": "code",
   "execution_count": 20,
   "id": "58718278",
   "metadata": {},
   "outputs": [],
   "source": [
    "# First, calculate median only from non-null values\n",
    "median_reviews_per_month = df['reviews_per_month'].median()\n",
    "\n",
    "# Fill where number_of_reviews == 0 → 0.0\n",
    "df.loc[df['number_of_reviews'] == 0, 'reviews_per_month'] = 0.0\n",
    "\n",
    "# Fill the rest (number_of_reviews > 0 and still null) → median\n",
    "df['reviews_per_month'] = df['reviews_per_month'].fillna(median_reviews_per_month)\n"
   ]
  },
  {
   "cell_type": "markdown",
   "id": "3b894609",
   "metadata": {},
   "source": [
    "\n",
    "\n",
    "<h1 style=\"font-size: 2.6em; color: #008080; border-bottom: 4px solid #006666; padding-bottom: 15px; margin-bottom: 30px; font-weight: 700; text-shadow: 1px 1px 2px rgba(0,0,0,0.1);\">\n",
    "  3. Post-Cleaning Verification\n",
    "</h1>\n"
   ]
  },
  {
   "cell_type": "code",
   "execution_count": 21,
   "id": "0a80c07a",
   "metadata": {},
   "outputs": [
    {
     "data": {
      "text/plain": [
       "id                                    0\n",
       "name                                  0\n",
       "host_id                               0\n",
       "host_name                             0\n",
       "neighbourhood_group                   0\n",
       "neighbourhood                         0\n",
       "latitude                              0\n",
       "longitude                             0\n",
       "room_type                             0\n",
       "price                                 0\n",
       "minimum_nights                        0\n",
       "number_of_reviews                     0\n",
       "last_review                       10052\n",
       "reviews_per_month                     0\n",
       "calculated_host_listings_count        0\n",
       "availability_365                      0\n",
       "dtype: int64"
      ]
     },
     "execution_count": 21,
     "metadata": {},
     "output_type": "execute_result"
    }
   ],
   "source": [
    "df.isnull().sum()"
   ]
  },
  {
   "cell_type": "code",
   "execution_count": 22,
   "id": "6d0a1190",
   "metadata": {},
   "outputs": [
    {
     "data": {
      "text/plain": [
       "id                                         int64\n",
       "name                                      object\n",
       "host_id                                    int64\n",
       "host_name                                 object\n",
       "neighbourhood_group                       object\n",
       "neighbourhood                             object\n",
       "latitude                                 float64\n",
       "longitude                                float64\n",
       "room_type                                 object\n",
       "price                                    float64\n",
       "minimum_nights                           float64\n",
       "number_of_reviews                          int64\n",
       "last_review                       datetime64[ns]\n",
       "reviews_per_month                        float64\n",
       "calculated_host_listings_count             int64\n",
       "availability_365                         float64\n",
       "dtype: object"
      ]
     },
     "execution_count": 22,
     "metadata": {},
     "output_type": "execute_result"
    }
   ],
   "source": [
    "df.dtypes"
   ]
  },
  {
   "cell_type": "markdown",
   "id": "8a729beb",
   "metadata": {},
   "source": [
    "\n",
    "<h1 style=\"font-size: 2.6em; color: #008080; border-bottom: 4px solid #006666; padding-bottom: 15px; margin-bottom: 30px; font-weight: 700; text-shadow: 1px 1px 2px rgba(0,0,0,0.1);\">\n",
    "  Dataset Overview\n",
    "</h1>\n"
   ]
  },
  {
   "cell_type": "code",
   "execution_count": 23,
   "id": "308aab63",
   "metadata": {},
   "outputs": [
    {
     "data": {
      "text/plain": [
       "(48895, 16)"
      ]
     },
     "execution_count": 23,
     "metadata": {},
     "output_type": "execute_result"
    }
   ],
   "source": [
    "df.shape"
   ]
  },
  {
   "cell_type": "code",
   "execution_count": 24,
   "id": "78aae608",
   "metadata": {},
   "outputs": [
    {
     "data": {
      "text/html": [
       "<div>\n",
       "<style scoped>\n",
       "    .dataframe tbody tr th:only-of-type {\n",
       "        vertical-align: middle;\n",
       "    }\n",
       "\n",
       "    .dataframe tbody tr th {\n",
       "        vertical-align: top;\n",
       "    }\n",
       "\n",
       "    .dataframe thead th {\n",
       "        text-align: right;\n",
       "    }\n",
       "</style>\n",
       "<table border=\"1\" class=\"dataframe\">\n",
       "  <thead>\n",
       "    <tr style=\"text-align: right;\">\n",
       "      <th></th>\n",
       "      <th>id</th>\n",
       "      <th>host_id</th>\n",
       "      <th>latitude</th>\n",
       "      <th>longitude</th>\n",
       "      <th>price</th>\n",
       "      <th>minimum_nights</th>\n",
       "      <th>number_of_reviews</th>\n",
       "      <th>last_review</th>\n",
       "      <th>reviews_per_month</th>\n",
       "      <th>calculated_host_listings_count</th>\n",
       "      <th>availability_365</th>\n",
       "    </tr>\n",
       "  </thead>\n",
       "  <tbody>\n",
       "    <tr>\n",
       "      <th>count</th>\n",
       "      <td>4.889500e+04</td>\n",
       "      <td>4.889500e+04</td>\n",
       "      <td>48895.000000</td>\n",
       "      <td>48895.000000</td>\n",
       "      <td>48895.000000</td>\n",
       "      <td>48895.000000</td>\n",
       "      <td>48895.000000</td>\n",
       "      <td>38843</td>\n",
       "      <td>48895.000000</td>\n",
       "      <td>48895.000000</td>\n",
       "      <td>48895.000000</td>\n",
       "    </tr>\n",
       "    <tr>\n",
       "      <th>mean</th>\n",
       "      <td>1.901714e+07</td>\n",
       "      <td>6.762001e+07</td>\n",
       "      <td>40.728949</td>\n",
       "      <td>-73.952170</td>\n",
       "      <td>151.635750</td>\n",
       "      <td>7.000818</td>\n",
       "      <td>23.274466</td>\n",
       "      <td>2018-10-04 18:35:59.277089536</td>\n",
       "      <td>1.040774</td>\n",
       "      <td>7.143982</td>\n",
       "      <td>112.042172</td>\n",
       "    </tr>\n",
       "    <tr>\n",
       "      <th>min</th>\n",
       "      <td>2.539000e+03</td>\n",
       "      <td>2.438000e+03</td>\n",
       "      <td>40.499790</td>\n",
       "      <td>-74.244420</td>\n",
       "      <td>0.000000</td>\n",
       "      <td>1.000000</td>\n",
       "      <td>0.000000</td>\n",
       "      <td>2011-03-28 00:00:00</td>\n",
       "      <td>0.000000</td>\n",
       "      <td>1.000000</td>\n",
       "      <td>0.000000</td>\n",
       "    </tr>\n",
       "    <tr>\n",
       "      <th>25%</th>\n",
       "      <td>9.471945e+06</td>\n",
       "      <td>7.822033e+06</td>\n",
       "      <td>40.690100</td>\n",
       "      <td>-73.983070</td>\n",
       "      <td>70.000000</td>\n",
       "      <td>1.000000</td>\n",
       "      <td>1.000000</td>\n",
       "      <td>2018-07-15 00:00:00</td>\n",
       "      <td>0.050000</td>\n",
       "      <td>1.000000</td>\n",
       "      <td>0.000000</td>\n",
       "    </tr>\n",
       "    <tr>\n",
       "      <th>50%</th>\n",
       "      <td>1.967728e+07</td>\n",
       "      <td>3.079382e+07</td>\n",
       "      <td>40.723070</td>\n",
       "      <td>-73.955680</td>\n",
       "      <td>106.000000</td>\n",
       "      <td>3.000000</td>\n",
       "      <td>5.000000</td>\n",
       "      <td>2019-05-19 00:00:00</td>\n",
       "      <td>0.460000</td>\n",
       "      <td>1.000000</td>\n",
       "      <td>45.000000</td>\n",
       "    </tr>\n",
       "    <tr>\n",
       "      <th>75%</th>\n",
       "      <td>2.915218e+07</td>\n",
       "      <td>1.074344e+08</td>\n",
       "      <td>40.763115</td>\n",
       "      <td>-73.936275</td>\n",
       "      <td>175.000000</td>\n",
       "      <td>5.000000</td>\n",
       "      <td>24.000000</td>\n",
       "      <td>2019-06-23 00:00:00</td>\n",
       "      <td>1.360000</td>\n",
       "      <td>2.000000</td>\n",
       "      <td>223.000000</td>\n",
       "    </tr>\n",
       "    <tr>\n",
       "      <th>max</th>\n",
       "      <td>3.648724e+07</td>\n",
       "      <td>2.743213e+08</td>\n",
       "      <td>40.913060</td>\n",
       "      <td>-73.712990</td>\n",
       "      <td>10000.000000</td>\n",
       "      <td>1250.000000</td>\n",
       "      <td>629.000000</td>\n",
       "      <td>2019-07-08 00:00:00</td>\n",
       "      <td>58.500000</td>\n",
       "      <td>327.000000</td>\n",
       "      <td>365.000000</td>\n",
       "    </tr>\n",
       "    <tr>\n",
       "      <th>std</th>\n",
       "      <td>1.098311e+07</td>\n",
       "      <td>7.861097e+07</td>\n",
       "      <td>0.054530</td>\n",
       "      <td>0.046157</td>\n",
       "      <td>236.150432</td>\n",
       "      <td>20.485321</td>\n",
       "      <td>44.550582</td>\n",
       "      <td>NaN</td>\n",
       "      <td>1.523345</td>\n",
       "      <td>32.952519</td>\n",
       "      <td>131.138841</td>\n",
       "    </tr>\n",
       "  </tbody>\n",
       "</table>\n",
       "</div>"
      ],
      "text/plain": [
       "                 id       host_id      latitude     longitude         price  \\\n",
       "count  4.889500e+04  4.889500e+04  48895.000000  48895.000000  48895.000000   \n",
       "mean   1.901714e+07  6.762001e+07     40.728949    -73.952170    151.635750   \n",
       "min    2.539000e+03  2.438000e+03     40.499790    -74.244420      0.000000   \n",
       "25%    9.471945e+06  7.822033e+06     40.690100    -73.983070     70.000000   \n",
       "50%    1.967728e+07  3.079382e+07     40.723070    -73.955680    106.000000   \n",
       "75%    2.915218e+07  1.074344e+08     40.763115    -73.936275    175.000000   \n",
       "max    3.648724e+07  2.743213e+08     40.913060    -73.712990  10000.000000   \n",
       "std    1.098311e+07  7.861097e+07      0.054530      0.046157    236.150432   \n",
       "\n",
       "       minimum_nights  number_of_reviews                    last_review  \\\n",
       "count    48895.000000       48895.000000                          38843   \n",
       "mean         7.000818          23.274466  2018-10-04 18:35:59.277089536   \n",
       "min          1.000000           0.000000            2011-03-28 00:00:00   \n",
       "25%          1.000000           1.000000            2018-07-15 00:00:00   \n",
       "50%          3.000000           5.000000            2019-05-19 00:00:00   \n",
       "75%          5.000000          24.000000            2019-06-23 00:00:00   \n",
       "max       1250.000000         629.000000            2019-07-08 00:00:00   \n",
       "std         20.485321          44.550582                            NaN   \n",
       "\n",
       "       reviews_per_month  calculated_host_listings_count  availability_365  \n",
       "count       48895.000000                    48895.000000      48895.000000  \n",
       "mean            1.040774                        7.143982        112.042172  \n",
       "min             0.000000                        1.000000          0.000000  \n",
       "25%             0.050000                        1.000000          0.000000  \n",
       "50%             0.460000                        1.000000         45.000000  \n",
       "75%             1.360000                        2.000000        223.000000  \n",
       "max            58.500000                      327.000000        365.000000  \n",
       "std             1.523345                       32.952519        131.138841  "
      ]
     },
     "execution_count": 24,
     "metadata": {},
     "output_type": "execute_result"
    }
   ],
   "source": [
    "df.describe()"
   ]
  },
  {
   "cell_type": "code",
   "execution_count": 25,
   "id": "c04ceaea",
   "metadata": {},
   "outputs": [
    {
     "name": "stdout",
     "output_type": "stream",
     "text": [
      "<class 'pandas.core.frame.DataFrame'>\n",
      "RangeIndex: 48895 entries, 0 to 48894\n",
      "Data columns (total 16 columns):\n",
      " #   Column                          Non-Null Count  Dtype         \n",
      "---  ------                          --------------  -----         \n",
      " 0   id                              48895 non-null  int64         \n",
      " 1   name                            48895 non-null  object        \n",
      " 2   host_id                         48895 non-null  int64         \n",
      " 3   host_name                       48895 non-null  object        \n",
      " 4   neighbourhood_group             48895 non-null  object        \n",
      " 5   neighbourhood                   48895 non-null  object        \n",
      " 6   latitude                        48895 non-null  float64       \n",
      " 7   longitude                       48895 non-null  float64       \n",
      " 8   room_type                       48895 non-null  object        \n",
      " 9   price                           48895 non-null  float64       \n",
      " 10  minimum_nights                  48895 non-null  float64       \n",
      " 11  number_of_reviews               48895 non-null  int64         \n",
      " 12  last_review                     38843 non-null  datetime64[ns]\n",
      " 13  reviews_per_month               48895 non-null  float64       \n",
      " 14  calculated_host_listings_count  48895 non-null  int64         \n",
      " 15  availability_365                48895 non-null  float64       \n",
      "dtypes: datetime64[ns](1), float64(6), int64(4), object(5)\n",
      "memory usage: 6.0+ MB\n"
     ]
    }
   ],
   "source": [
    "df.info()"
   ]
  },
  {
   "cell_type": "code",
   "execution_count": 26,
   "id": "8558d0d0",
   "metadata": {},
   "outputs": [
    {
     "data": {
      "text/plain": [
       "id                                48895\n",
       "name                              47906\n",
       "host_id                           37457\n",
       "host_name                         11130\n",
       "neighbourhood_group                   5\n",
       "neighbourhood                       221\n",
       "latitude                          19048\n",
       "longitude                         14718\n",
       "room_type                             3\n",
       "price                               671\n",
       "minimum_nights                      108\n",
       "number_of_reviews                   394\n",
       "last_review                        1731\n",
       "reviews_per_month                   916\n",
       "calculated_host_listings_count       47\n",
       "availability_365                    366\n",
       "dtype: int64"
      ]
     },
     "execution_count": 26,
     "metadata": {},
     "output_type": "execute_result"
    }
   ],
   "source": [
    "df.nunique()"
   ]
  },
  {
   "cell_type": "code",
   "execution_count": 27,
   "id": "0e8c8a48",
   "metadata": {},
   "outputs": [
    {
     "data": {
      "text/plain": [
       "np.int64(0)"
      ]
     },
     "execution_count": 27,
     "metadata": {},
     "output_type": "execute_result"
    }
   ],
   "source": [
    "df.duplicated().sum() "
   ]
  },
  {
   "cell_type": "code",
   "execution_count": 28,
   "id": "739f42f5",
   "metadata": {},
   "outputs": [],
   "source": [
    "df.to_csv(\"AB_NYC_Cleaned.csv\",index=False)"
   ]
  },
  {
   "cell_type": "markdown",
   "id": "0812e65f",
   "metadata": {},
   "source": [
    "<div style=\"background-color: #f4f6f8; border-left: 4px solid #4caf50; padding: 12px; margin: 10px 0; color: #1a1a1a;\">\n",
    "  <h3 style=\"color: #4caf50; margin: 0;\">📝 Conclusion (Data Cleaning & Manipulation)</h3>\n",
    "  <ul style=\"margin: 10px 0 0 20px; padding: 0; list-style-type: disc;\">\n",
    "    <li>Performed thorough data cleaning and preprocessing on the NYC Airbnb dataset.</li>\n",
    "    <li>Handled missing values using appropriate strategies:\n",
    "      <ul style=\"list-style-type: circle; margin-top: 5px;\">\n",
    "        <li><strong>Mode</strong> for categorical columns.</li>\n",
    "        <li><strong>Median</strong> for numerical columns with skewed distributions.</li>\n",
    "        <li><strong>Conditional filling</strong> based on related features.</li>\n",
    "      </ul>\n",
    "    </li>\n",
    "    <li>Maintained logical integrity by preserving <code>NaN</code> values where they represent meaningful absence (e.g., no reviews).</li>\n",
    "    <li>Verified and corrected data types for consistency.</li>\n",
    "    <li>Engineered useful features for downstream analysis.</li>\n",
    "    <li>Ensured the dataset is now clean, consistent, and ready for insightful exploration in the EDA phase.</li>\n",
    "  </ul>\n",
    "</div>\n"
   ]
  }
 ],
 "metadata": {
  "kernelspec": {
   "display_name": "Python 3",
   "language": "python",
   "name": "python3"
  },
  "language_info": {
   "codemirror_mode": {
    "name": "ipython",
    "version": 3
   },
   "file_extension": ".py",
   "mimetype": "text/x-python",
   "name": "python",
   "nbconvert_exporter": "python",
   "pygments_lexer": "ipython3",
   "version": "3.13.5"
  }
 },
 "nbformat": 4,
 "nbformat_minor": 5
}
