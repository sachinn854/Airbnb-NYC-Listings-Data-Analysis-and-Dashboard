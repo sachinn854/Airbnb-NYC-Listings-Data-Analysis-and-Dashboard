{
 "cells": [
  {
   "cell_type": "markdown",
   "id": "29cbb525",
   "metadata": {},
   "source": [
    "# 1. Data Loading and Initial Inspection"
   ]
  },
  {
   "cell_type": "code",
   "execution_count": 1,
   "id": "db24547a",
   "metadata": {},
   "outputs": [],
   "source": [
    "import pandas as pd"
   ]
  },
  {
   "cell_type": "code",
   "execution_count": 2,
   "id": "ec22e5e1",
   "metadata": {},
   "outputs": [],
   "source": [
    "df=pd.read_csv(\"AB_NYC.csv\")\n"
   ]
  },
  {
   "cell_type": "code",
   "execution_count": 3,
   "id": "01d0159b",
   "metadata": {},
   "outputs": [
    {
     "data": {
      "text/plain": [
       "count    47917.000000\n",
       "mean       244.783167\n",
       "std        126.565233\n",
       "min        100.000000\n",
       "25%        169.000000\n",
       "50%        206.000000\n",
       "75%        275.000000\n",
       "max       1000.000000\n",
       "Name: price, dtype: float64"
      ]
     },
     "execution_count": 3,
     "metadata": {},
     "output_type": "execute_result"
    }
   ],
   "source": [
    "df['price'].describe()"
   ]
  },
  {
   "cell_type": "code",
   "execution_count": 4,
   "id": "603eda5e",
   "metadata": {},
   "outputs": [
    {
     "data": {
      "text/plain": [
       "id                                  int64\n",
       "name                               object\n",
       "host_id                             int64\n",
       "host_name                          object\n",
       "neighbourhood_group                object\n",
       "neighbourhood                      object\n",
       "latitude                          float64\n",
       "longitude                         float64\n",
       "room_type                          object\n",
       "price                             float64\n",
       "minimum_nights                    float64\n",
       "number_of_reviews                   int64\n",
       "last_review                        object\n",
       "reviews_per_month                 float64\n",
       "calculated_host_listings_count      int64\n",
       "availability_365                  float64\n",
       "dtype: object"
      ]
     },
     "execution_count": 4,
     "metadata": {},
     "output_type": "execute_result"
    }
   ],
   "source": [
    "df.dtypes"
   ]
  },
  {
   "cell_type": "code",
   "execution_count": 5,
   "id": "35abd1a0",
   "metadata": {},
   "outputs": [
    {
     "data": {
      "text/html": [
       "<div>\n",
       "<style scoped>\n",
       "    .dataframe tbody tr th:only-of-type {\n",
       "        vertical-align: middle;\n",
       "    }\n",
       "\n",
       "    .dataframe tbody tr th {\n",
       "        vertical-align: top;\n",
       "    }\n",
       "\n",
       "    .dataframe thead th {\n",
       "        text-align: right;\n",
       "    }\n",
       "</style>\n",
       "<table border=\"1\" class=\"dataframe\">\n",
       "  <thead>\n",
       "    <tr style=\"text-align: right;\">\n",
       "      <th></th>\n",
       "      <th>id</th>\n",
       "      <th>name</th>\n",
       "      <th>host_id</th>\n",
       "      <th>host_name</th>\n",
       "      <th>neighbourhood_group</th>\n",
       "      <th>neighbourhood</th>\n",
       "      <th>latitude</th>\n",
       "      <th>longitude</th>\n",
       "      <th>room_type</th>\n",
       "      <th>price</th>\n",
       "      <th>minimum_nights</th>\n",
       "      <th>number_of_reviews</th>\n",
       "      <th>last_review</th>\n",
       "      <th>reviews_per_month</th>\n",
       "      <th>calculated_host_listings_count</th>\n",
       "      <th>availability_365</th>\n",
       "    </tr>\n",
       "  </thead>\n",
       "  <tbody>\n",
       "    <tr>\n",
       "      <th>0</th>\n",
       "      <td>2539</td>\n",
       "      <td>Clean &amp; quiet apt home by the park</td>\n",
       "      <td>2787</td>\n",
       "      <td>John</td>\n",
       "      <td>Brooklyn</td>\n",
       "      <td>Kensington</td>\n",
       "      <td>40.64749</td>\n",
       "      <td>-73.97237</td>\n",
       "      <td>Private room</td>\n",
       "      <td>249.0</td>\n",
       "      <td>1.0</td>\n",
       "      <td>9</td>\n",
       "      <td>2018-10-19</td>\n",
       "      <td>0.21</td>\n",
       "      <td>6</td>\n",
       "      <td>365.0</td>\n",
       "    </tr>\n",
       "    <tr>\n",
       "      <th>1</th>\n",
       "      <td>2595</td>\n",
       "      <td>Skylit Midtown Castle</td>\n",
       "      <td>2845</td>\n",
       "      <td>Jennifer</td>\n",
       "      <td>Manhattan</td>\n",
       "      <td>Midtown</td>\n",
       "      <td>40.75362</td>\n",
       "      <td>-73.98377</td>\n",
       "      <td>Entire home/apt</td>\n",
       "      <td>325.0</td>\n",
       "      <td>1.0</td>\n",
       "      <td>45</td>\n",
       "      <td>2019-05-21</td>\n",
       "      <td>0.38</td>\n",
       "      <td>2</td>\n",
       "      <td>355.0</td>\n",
       "    </tr>\n",
       "    <tr>\n",
       "      <th>2</th>\n",
       "      <td>3647</td>\n",
       "      <td>THE VILLAGE OF HARLEM....NEW YORK !</td>\n",
       "      <td>4632</td>\n",
       "      <td>Elisabeth</td>\n",
       "      <td>Manhattan</td>\n",
       "      <td>Harlem</td>\n",
       "      <td>40.80902</td>\n",
       "      <td>-73.94190</td>\n",
       "      <td>Private room</td>\n",
       "      <td>250.0</td>\n",
       "      <td>3.0</td>\n",
       "      <td>1</td>\n",
       "      <td>NaN</td>\n",
       "      <td>NaN</td>\n",
       "      <td>1</td>\n",
       "      <td>365.0</td>\n",
       "    </tr>\n",
       "    <tr>\n",
       "      <th>3</th>\n",
       "      <td>3831</td>\n",
       "      <td>Cozy Entire Floor of Brownstone</td>\n",
       "      <td>4869</td>\n",
       "      <td>LisaRoxanne</td>\n",
       "      <td>Brooklyn</td>\n",
       "      <td>Clinton Hill</td>\n",
       "      <td>40.68514</td>\n",
       "      <td>-73.95976</td>\n",
       "      <td>Entire home/apt</td>\n",
       "      <td>189.0</td>\n",
       "      <td>1.0</td>\n",
       "      <td>270</td>\n",
       "      <td>2019-07-05</td>\n",
       "      <td>4.64</td>\n",
       "      <td>1</td>\n",
       "      <td>194.0</td>\n",
       "    </tr>\n",
       "    <tr>\n",
       "      <th>4</th>\n",
       "      <td>5022</td>\n",
       "      <td>Entire Apt: Spacious Studio/Loft by central park</td>\n",
       "      <td>7192</td>\n",
       "      <td>Laura</td>\n",
       "      <td>Manhattan</td>\n",
       "      <td>East Harlem</td>\n",
       "      <td>40.79851</td>\n",
       "      <td>-73.94399</td>\n",
       "      <td>Entire home/apt</td>\n",
       "      <td>180.0</td>\n",
       "      <td>10.0</td>\n",
       "      <td>9</td>\n",
       "      <td>NaN</td>\n",
       "      <td>NaN</td>\n",
       "      <td>1</td>\n",
       "      <td>0.0</td>\n",
       "    </tr>\n",
       "  </tbody>\n",
       "</table>\n",
       "</div>"
      ],
      "text/plain": [
       "     id                                              name  host_id  \\\n",
       "0  2539                Clean & quiet apt home by the park     2787   \n",
       "1  2595                             Skylit Midtown Castle     2845   \n",
       "2  3647               THE VILLAGE OF HARLEM....NEW YORK !     4632   \n",
       "3  3831                   Cozy Entire Floor of Brownstone     4869   \n",
       "4  5022  Entire Apt: Spacious Studio/Loft by central park     7192   \n",
       "\n",
       "     host_name neighbourhood_group neighbourhood  latitude  longitude  \\\n",
       "0         John            Brooklyn    Kensington  40.64749  -73.97237   \n",
       "1     Jennifer           Manhattan       Midtown  40.75362  -73.98377   \n",
       "2    Elisabeth           Manhattan        Harlem  40.80902  -73.94190   \n",
       "3  LisaRoxanne            Brooklyn  Clinton Hill  40.68514  -73.95976   \n",
       "4        Laura           Manhattan   East Harlem  40.79851  -73.94399   \n",
       "\n",
       "         room_type  price  minimum_nights  number_of_reviews last_review  \\\n",
       "0     Private room  249.0             1.0                  9  2018-10-19   \n",
       "1  Entire home/apt  325.0             1.0                 45  2019-05-21   \n",
       "2     Private room  250.0             3.0                  1         NaN   \n",
       "3  Entire home/apt  189.0             1.0                270  2019-07-05   \n",
       "4  Entire home/apt  180.0            10.0                  9         NaN   \n",
       "\n",
       "   reviews_per_month  calculated_host_listings_count  availability_365  \n",
       "0               0.21                               6             365.0  \n",
       "1               0.38                               2             355.0  \n",
       "2                NaN                               1             365.0  \n",
       "3               4.64                               1             194.0  \n",
       "4                NaN                               1               0.0  "
      ]
     },
     "execution_count": 5,
     "metadata": {},
     "output_type": "execute_result"
    }
   ],
   "source": [
    "df.head()"
   ]
  },
  {
   "cell_type": "code",
   "execution_count": 6,
   "id": "e21973a3",
   "metadata": {},
   "outputs": [
    {
     "name": "stdout",
     "output_type": "stream",
     "text": [
      "<class 'pandas.core.frame.DataFrame'>\n",
      "RangeIndex: 48895 entries, 0 to 48894\n",
      "Data columns (total 16 columns):\n",
      " #   Column                          Non-Null Count  Dtype  \n",
      "---  ------                          --------------  -----  \n",
      " 0   id                              48895 non-null  int64  \n",
      " 1   name                            48879 non-null  object \n",
      " 2   host_id                         48895 non-null  int64  \n",
      " 3   host_name                       46430 non-null  object \n",
      " 4   neighbourhood_group             47917 non-null  object \n",
      " 5   neighbourhood                   48895 non-null  object \n",
      " 6   latitude                        48895 non-null  float64\n",
      " 7   longitude                       48895 non-null  float64\n",
      " 8   room_type                       47428 non-null  object \n",
      " 9   price                           47917 non-null  float64\n",
      " 10  minimum_nights                  48406 non-null  float64\n",
      " 11  number_of_reviews               48895 non-null  int64  \n",
      " 12  last_review                     34962 non-null  object \n",
      " 13  reviews_per_month               34962 non-null  float64\n",
      " 14  calculated_host_listings_count  48895 non-null  int64  \n",
      " 15  availability_365                48406 non-null  float64\n",
      "dtypes: float64(6), int64(4), object(6)\n",
      "memory usage: 6.0+ MB\n"
     ]
    }
   ],
   "source": [
    "df.info()"
   ]
  },
  {
   "cell_type": "code",
   "execution_count": 7,
   "id": "5c47ae1c",
   "metadata": {},
   "outputs": [
    {
     "data": {
      "text/plain": [
       "(48895, 16)"
      ]
     },
     "execution_count": 7,
     "metadata": {},
     "output_type": "execute_result"
    }
   ],
   "source": [
    "df.shape"
   ]
  },
  {
   "cell_type": "code",
   "execution_count": 8,
   "id": "1f894f37",
   "metadata": {},
   "outputs": [
    {
     "data": {
      "text/html": [
       "<div>\n",
       "<style scoped>\n",
       "    .dataframe tbody tr th:only-of-type {\n",
       "        vertical-align: middle;\n",
       "    }\n",
       "\n",
       "    .dataframe tbody tr th {\n",
       "        vertical-align: top;\n",
       "    }\n",
       "\n",
       "    .dataframe thead th {\n",
       "        text-align: right;\n",
       "    }\n",
       "</style>\n",
       "<table border=\"1\" class=\"dataframe\">\n",
       "  <thead>\n",
       "    <tr style=\"text-align: right;\">\n",
       "      <th></th>\n",
       "      <th>id</th>\n",
       "      <th>host_id</th>\n",
       "      <th>latitude</th>\n",
       "      <th>longitude</th>\n",
       "      <th>price</th>\n",
       "      <th>minimum_nights</th>\n",
       "      <th>number_of_reviews</th>\n",
       "      <th>reviews_per_month</th>\n",
       "      <th>calculated_host_listings_count</th>\n",
       "      <th>availability_365</th>\n",
       "    </tr>\n",
       "  </thead>\n",
       "  <tbody>\n",
       "    <tr>\n",
       "      <th>count</th>\n",
       "      <td>4.889500e+04</td>\n",
       "      <td>4.889500e+04</td>\n",
       "      <td>48895.000000</td>\n",
       "      <td>48895.000000</td>\n",
       "      <td>47917.000000</td>\n",
       "      <td>48406.000000</td>\n",
       "      <td>48895.000000</td>\n",
       "      <td>34962.000000</td>\n",
       "      <td>48895.000000</td>\n",
       "      <td>48406.000000</td>\n",
       "    </tr>\n",
       "    <tr>\n",
       "      <th>mean</th>\n",
       "      <td>1.901714e+07</td>\n",
       "      <td>6.762001e+07</td>\n",
       "      <td>40.728949</td>\n",
       "      <td>-73.952170</td>\n",
       "      <td>244.783167</td>\n",
       "      <td>6.722225</td>\n",
       "      <td>23.684937</td>\n",
       "      <td>1.375617</td>\n",
       "      <td>7.143982</td>\n",
       "      <td>112.719436</td>\n",
       "    </tr>\n",
       "    <tr>\n",
       "      <th>std</th>\n",
       "      <td>1.098311e+07</td>\n",
       "      <td>7.861097e+07</td>\n",
       "      <td>0.054530</td>\n",
       "      <td>0.046157</td>\n",
       "      <td>126.565233</td>\n",
       "      <td>13.827780</td>\n",
       "      <td>44.344485</td>\n",
       "      <td>1.676428</td>\n",
       "      <td>32.952519</td>\n",
       "      <td>131.625467</td>\n",
       "    </tr>\n",
       "    <tr>\n",
       "      <th>min</th>\n",
       "      <td>2.539000e+03</td>\n",
       "      <td>2.438000e+03</td>\n",
       "      <td>40.499790</td>\n",
       "      <td>-74.244420</td>\n",
       "      <td>100.000000</td>\n",
       "      <td>1.000000</td>\n",
       "      <td>1.000000</td>\n",
       "      <td>0.010000</td>\n",
       "      <td>1.000000</td>\n",
       "      <td>0.000000</td>\n",
       "    </tr>\n",
       "    <tr>\n",
       "      <th>25%</th>\n",
       "      <td>9.471945e+06</td>\n",
       "      <td>7.822033e+06</td>\n",
       "      <td>40.690100</td>\n",
       "      <td>-73.983070</td>\n",
       "      <td>169.000000</td>\n",
       "      <td>1.000000</td>\n",
       "      <td>2.000000</td>\n",
       "      <td>0.190000</td>\n",
       "      <td>1.000000</td>\n",
       "      <td>0.000000</td>\n",
       "    </tr>\n",
       "    <tr>\n",
       "      <th>50%</th>\n",
       "      <td>1.967728e+07</td>\n",
       "      <td>3.079382e+07</td>\n",
       "      <td>40.723070</td>\n",
       "      <td>-73.955680</td>\n",
       "      <td>206.000000</td>\n",
       "      <td>3.000000</td>\n",
       "      <td>5.000000</td>\n",
       "      <td>0.720000</td>\n",
       "      <td>1.000000</td>\n",
       "      <td>45.000000</td>\n",
       "    </tr>\n",
       "    <tr>\n",
       "      <th>75%</th>\n",
       "      <td>2.915218e+07</td>\n",
       "      <td>1.074344e+08</td>\n",
       "      <td>40.763115</td>\n",
       "      <td>-73.936275</td>\n",
       "      <td>275.000000</td>\n",
       "      <td>5.000000</td>\n",
       "      <td>24.000000</td>\n",
       "      <td>2.020000</td>\n",
       "      <td>2.000000</td>\n",
       "      <td>227.000000</td>\n",
       "    </tr>\n",
       "    <tr>\n",
       "      <th>max</th>\n",
       "      <td>3.648724e+07</td>\n",
       "      <td>2.743213e+08</td>\n",
       "      <td>40.913060</td>\n",
       "      <td>-73.712990</td>\n",
       "      <td>1000.000000</td>\n",
       "      <td>200.000000</td>\n",
       "      <td>629.000000</td>\n",
       "      <td>58.500000</td>\n",
       "      <td>327.000000</td>\n",
       "      <td>365.000000</td>\n",
       "    </tr>\n",
       "  </tbody>\n",
       "</table>\n",
       "</div>"
      ],
      "text/plain": [
       "                 id       host_id      latitude     longitude         price  \\\n",
       "count  4.889500e+04  4.889500e+04  48895.000000  48895.000000  47917.000000   \n",
       "mean   1.901714e+07  6.762001e+07     40.728949    -73.952170    244.783167   \n",
       "std    1.098311e+07  7.861097e+07      0.054530      0.046157    126.565233   \n",
       "min    2.539000e+03  2.438000e+03     40.499790    -74.244420    100.000000   \n",
       "25%    9.471945e+06  7.822033e+06     40.690100    -73.983070    169.000000   \n",
       "50%    1.967728e+07  3.079382e+07     40.723070    -73.955680    206.000000   \n",
       "75%    2.915218e+07  1.074344e+08     40.763115    -73.936275    275.000000   \n",
       "max    3.648724e+07  2.743213e+08     40.913060    -73.712990   1000.000000   \n",
       "\n",
       "       minimum_nights  number_of_reviews  reviews_per_month  \\\n",
       "count    48406.000000       48895.000000       34962.000000   \n",
       "mean         6.722225          23.684937           1.375617   \n",
       "std         13.827780          44.344485           1.676428   \n",
       "min          1.000000           1.000000           0.010000   \n",
       "25%          1.000000           2.000000           0.190000   \n",
       "50%          3.000000           5.000000           0.720000   \n",
       "75%          5.000000          24.000000           2.020000   \n",
       "max        200.000000         629.000000          58.500000   \n",
       "\n",
       "       calculated_host_listings_count  availability_365  \n",
       "count                    48895.000000      48406.000000  \n",
       "mean                         7.143982        112.719436  \n",
       "std                         32.952519        131.625467  \n",
       "min                          1.000000          0.000000  \n",
       "25%                          1.000000          0.000000  \n",
       "50%                          1.000000         45.000000  \n",
       "75%                          2.000000        227.000000  \n",
       "max                        327.000000        365.000000  "
      ]
     },
     "execution_count": 8,
     "metadata": {},
     "output_type": "execute_result"
    }
   ],
   "source": [
    "df.describe()"
   ]
  },
  {
   "cell_type": "code",
   "execution_count": 9,
   "id": "f0cf5d13",
   "metadata": {},
   "outputs": [
    {
     "data": {
      "text/plain": [
       "id                                    0\n",
       "name                                 16\n",
       "host_id                               0\n",
       "host_name                          2465\n",
       "neighbourhood_group                 978\n",
       "neighbourhood                         0\n",
       "latitude                              0\n",
       "longitude                             0\n",
       "room_type                          1467\n",
       "price                               978\n",
       "minimum_nights                      489\n",
       "number_of_reviews                     0\n",
       "last_review                       13933\n",
       "reviews_per_month                 13933\n",
       "calculated_host_listings_count        0\n",
       "availability_365                    489\n",
       "dtype: int64"
      ]
     },
     "execution_count": 9,
     "metadata": {},
     "output_type": "execute_result"
    }
   ],
   "source": [
    "df.isnull().sum()"
   ]
  },
  {
   "cell_type": "code",
   "execution_count": 10,
   "id": "53e401bc",
   "metadata": {},
   "outputs": [
    {
     "data": {
      "text/plain": [
       "id                                48895\n",
       "name                              47905\n",
       "host_id                           37457\n",
       "host_name                         11129\n",
       "neighbourhood_group                   5\n",
       "neighbourhood                       221\n",
       "latitude                          19048\n",
       "longitude                         14718\n",
       "room_type                             3\n",
       "price                               553\n",
       "minimum_nights                      114\n",
       "number_of_reviews                   393\n",
       "last_review                        1731\n",
       "reviews_per_month                   915\n",
       "calculated_host_listings_count       47\n",
       "availability_365                    366\n",
       "dtype: int64"
      ]
     },
     "execution_count": 10,
     "metadata": {},
     "output_type": "execute_result"
    }
   ],
   "source": [
    "df.nunique()"
   ]
  },
  {
   "cell_type": "code",
   "execution_count": 11,
   "id": "f2c4d003",
   "metadata": {},
   "outputs": [
    {
     "name": "stdout",
     "output_type": "stream",
     "text": [
      "reviews_per_month      28.495756\n",
      "last_review            28.495756\n",
      "host_name               5.041415\n",
      "room_type               3.000307\n",
      "price                   2.000205\n",
      "neighbourhood_group     2.000205\n",
      "minimum_nights          1.000102\n",
      "availability_365        1.000102\n",
      "name                    0.032723\n",
      "dtype: float64\n"
     ]
    }
   ],
   "source": [
    "missing_percent = df.isnull().mean() * 100\n",
    "missing_percent = missing_percent[missing_percent > 0].sort_values(ascending=False)\n",
    "\n",
    "print(missing_percent)\n"
   ]
  },
  {
   "cell_type": "markdown",
   "id": "4fc9b11b",
   "metadata": {},
   "source": [
    "# 2. Handling Missing Values"
   ]
  },
  {
   "cell_type": "code",
   "execution_count": 12,
   "id": "ad2c469e",
   "metadata": {},
   "outputs": [],
   "source": [
    "df['name'] = df['name'].fillna('Unnamed')"
   ]
  },
  {
   "cell_type": "markdown",
   "id": "63b4e3e4",
   "metadata": {},
   "source": [
    "### Handling Missing Names\n",
    "\n",
    "The **name** column holds the listing title.  \n",
    "Filling missing names with **\"Unnamed\"** keeps the data consistent and shows clearly where names were missing, without removing any records.\n"
   ]
  },
  {
   "cell_type": "code",
   "execution_count": 13,
   "id": "e27885f4",
   "metadata": {},
   "outputs": [],
   "source": [
    "df['host_name'] = df['host_name'].fillna('Unknown_host')"
   ]
  },
  {
   "cell_type": "markdown",
   "id": "844b98a8",
   "metadata": {},
   "source": [
    "### Reason: Handling Missing Host Names\n",
    "\n",
    "The **host_name** column shows the host’s name.  \n",
    "Replacing missing values with **\"Unknown_host\"** keeps the data complete and clearly marks where host names were missing.\n"
   ]
  },
  {
   "cell_type": "code",
   "execution_count": 14,
   "id": "c8702a0c",
   "metadata": {},
   "outputs": [],
   "source": [
    "df['neighbourhood_group'] = df['neighbourhood_group'].fillna(df['neighbourhood_group'].mode()[0])\n"
   ]
  },
  {
   "cell_type": "markdown",
   "id": "5f9006ef",
   "metadata": {},
   "source": [
    "### neighbourhood_group Column Imputation\n",
    "\n",
    "**Reason:**  \n",
    "Since `neighbourhood_group` is categorical, filling missing values with the **mode** (most common group) is a simple and reliable approach.  \n",
    "This keeps the data consistent without adding new or artificial categories.\n"
   ]
  },
  {
   "cell_type": "code",
   "execution_count": 15,
   "id": "426d0138",
   "metadata": {},
   "outputs": [],
   "source": [
    "df['room_type'] = df['room_type'].fillna(df['room_type'].mode()[0])\n"
   ]
  },
  {
   "cell_type": "markdown",
   "id": "781f1f57",
   "metadata": {},
   "source": [
    "### room_type Column Imputation\n",
    "\n",
    "**Reason:**  \n",
    "`room_type` is categorical, so filling missing values with the most frequent category is a logical choice.  \n",
    "This keeps data complete and preserves the natural distribution of room types.\n",
    "\n"
   ]
  },
  {
   "cell_type": "code",
   "execution_count": 16,
   "id": "11c1de9b",
   "metadata": {},
   "outputs": [],
   "source": [
    "df['price'] = df['price'].fillna(df['price'].median())\n"
   ]
  },
  {
   "cell_type": "markdown",
   "id": "d77109ad",
   "metadata": {},
   "source": [
    "### price Column Imputation\n",
    "\n",
    "**Reason:**  \n",
    "Using the median is better than the mean for filling missing prices because it handles outliers well in skewed price data.\n",
    "\n",
    "**Tip:**  \n",
    "For improved accuracy, consider advanced methods like KNN or regression-based imputation using related features such as `room_type` or `neighbourhood`.\n"
   ]
  },
  {
   "cell_type": "code",
   "execution_count": 17,
   "id": "fc74f9e3",
   "metadata": {},
   "outputs": [],
   "source": [
    "df['minimum_nights'] = df['minimum_nights'].fillna(df['minimum_nights'].median())\n"
   ]
  },
  {
   "cell_type": "markdown",
   "id": "4c6c9b91",
   "metadata": {},
   "source": [
    "### minimum_nights Column Imputation\n",
    "\n",
    "**Reason:**  \n",
    "Using the median reduces the impact of outliers, such as very long stays, providing a more typical value.\n"
   ]
  },
  {
   "cell_type": "code",
   "execution_count": 18,
   "id": "66f26930",
   "metadata": {},
   "outputs": [],
   "source": [
    "df['availability_365'] = df['availability_365'].fillna(df['availability_365'].median())\n"
   ]
  },
  {
   "cell_type": "markdown",
   "id": "d66172d1",
   "metadata": {},
   "source": [
    "### availability_365 Column Imputation\n",
    "\n",
    "**Reason:**  \n",
    "The median gives a stable estimate for different listing availabilities.  \n",
    "If missing means not available, filling with `0` is also an option.\n"
   ]
  },
  {
   "cell_type": "markdown",
   "id": "0434fd69",
   "metadata": {},
   "source": [
    "### Task: Filling Missing `last_review` Dates\n",
    "\n",
    "For rows where `last_review` is missing (`NaN`) but `number_of_reviews` is greater than 0, fill the missing `last_review` with a random realistic date sampled from the distribution of existing valid `last_review` dates.\n",
    "\n",
    "Leave rows with `number_of_reviews == 0` unchanged.\n"
   ]
  },
  {
   "cell_type": "code",
   "execution_count": 19,
   "id": "3315568a",
   "metadata": {},
   "outputs": [],
   "source": [
    "import numpy as np\n",
    "\n",
    "# Ensure last_review is in datetime format\n",
    "df['last_review'] = pd.to_datetime(df['last_review'], errors='coerce')\n",
    "\n",
    "# Filter non-null last_review values to sample from\n",
    "valid_dates = df['last_review'].dropna()\n",
    "\n",
    "# Condition: missing last_review AND number_of_reviews > 0\n",
    "mask = df['last_review'].isna() & (df['number_of_reviews'] > 0)\n",
    "\n",
    "# Randomly assign from existing valid dates\n",
    "df.loc[mask, 'last_review'] = np.random.choice(valid_dates, size=mask.sum())\n"
   ]
  },
  {
   "cell_type": "code",
   "execution_count": 20,
   "id": "f7e3ecd1",
   "metadata": {},
   "outputs": [
    {
     "data": {
      "text/plain": [
       "id                                    0\n",
       "name                                  0\n",
       "host_id                               0\n",
       "host_name                             0\n",
       "neighbourhood_group                   0\n",
       "neighbourhood                         0\n",
       "latitude                              0\n",
       "longitude                             0\n",
       "room_type                             0\n",
       "price                                 0\n",
       "minimum_nights                        0\n",
       "number_of_reviews                     0\n",
       "last_review                           0\n",
       "reviews_per_month                 13933\n",
       "calculated_host_listings_count        0\n",
       "availability_365                      0\n",
       "dtype: int64"
      ]
     },
     "execution_count": 20,
     "metadata": {},
     "output_type": "execute_result"
    }
   ],
   "source": [
    "df.isnull().sum()"
   ]
  },
  {
   "cell_type": "code",
   "execution_count": 21,
   "id": "e9b1b025",
   "metadata": {},
   "outputs": [
    {
     "data": {
      "text/plain": [
       "np.int64(0)"
      ]
     },
     "execution_count": 21,
     "metadata": {},
     "output_type": "execute_result"
    }
   ],
   "source": [
    "(df['number_of_reviews'] == 0).sum()\n"
   ]
  },
  {
   "cell_type": "code",
   "execution_count": 22,
   "id": "9ee86981",
   "metadata": {},
   "outputs": [
    {
     "name": "stdout",
     "output_type": "stream",
     "text": [
      "Number of listings with 0 reviews: 0\n"
     ]
    }
   ],
   "source": [
    "zero_reviews_count = (df['number_of_reviews'] == 0).sum()\n",
    "print(\"Number of listings with 0 reviews:\", zero_reviews_count)\n"
   ]
  },
  {
   "cell_type": "code",
   "execution_count": 23,
   "id": "7f810790",
   "metadata": {},
   "outputs": [],
   "source": [
    "median_value = df['reviews_per_month'].median()\n",
    "df['reviews_per_month'] = df['reviews_per_month'].fillna(median_value)\n",
    "\n"
   ]
  },
  {
   "cell_type": "code",
   "execution_count": 24,
   "id": "e12331bc",
   "metadata": {},
   "outputs": [
    {
     "data": {
      "text/plain": [
       "np.float64(0.72)"
      ]
     },
     "execution_count": 24,
     "metadata": {},
     "output_type": "execute_result"
    }
   ],
   "source": [
    "df['reviews_per_month'].median()"
   ]
  },
  {
   "cell_type": "markdown",
   "id": "3b894609",
   "metadata": {},
   "source": [
    "# 3. Post-Cleaning Verification"
   ]
  },
  {
   "cell_type": "code",
   "execution_count": 25,
   "id": "0a80c07a",
   "metadata": {},
   "outputs": [
    {
     "data": {
      "text/plain": [
       "id                                0\n",
       "name                              0\n",
       "host_id                           0\n",
       "host_name                         0\n",
       "neighbourhood_group               0\n",
       "neighbourhood                     0\n",
       "latitude                          0\n",
       "longitude                         0\n",
       "room_type                         0\n",
       "price                             0\n",
       "minimum_nights                    0\n",
       "number_of_reviews                 0\n",
       "last_review                       0\n",
       "reviews_per_month                 0\n",
       "calculated_host_listings_count    0\n",
       "availability_365                  0\n",
       "dtype: int64"
      ]
     },
     "execution_count": 25,
     "metadata": {},
     "output_type": "execute_result"
    }
   ],
   "source": [
    "df.isnull().sum()"
   ]
  },
  {
   "cell_type": "code",
   "execution_count": 26,
   "id": "6d0a1190",
   "metadata": {},
   "outputs": [
    {
     "data": {
      "text/plain": [
       "id                                         int64\n",
       "name                                      object\n",
       "host_id                                    int64\n",
       "host_name                                 object\n",
       "neighbourhood_group                       object\n",
       "neighbourhood                             object\n",
       "latitude                                 float64\n",
       "longitude                                float64\n",
       "room_type                                 object\n",
       "price                                    float64\n",
       "minimum_nights                           float64\n",
       "number_of_reviews                          int64\n",
       "last_review                       datetime64[ns]\n",
       "reviews_per_month                        float64\n",
       "calculated_host_listings_count             int64\n",
       "availability_365                         float64\n",
       "dtype: object"
      ]
     },
     "execution_count": 26,
     "metadata": {},
     "output_type": "execute_result"
    }
   ],
   "source": [
    "df.dtypes"
   ]
  },
  {
   "cell_type": "markdown",
   "id": "8a729beb",
   "metadata": {},
   "source": [
    "#  Dataset Overview"
   ]
  },
  {
   "cell_type": "code",
   "execution_count": 27,
   "id": "308aab63",
   "metadata": {},
   "outputs": [
    {
     "data": {
      "text/plain": [
       "(48895, 16)"
      ]
     },
     "execution_count": 27,
     "metadata": {},
     "output_type": "execute_result"
    }
   ],
   "source": [
    "df.shape"
   ]
  },
  {
   "cell_type": "code",
   "execution_count": 28,
   "id": "78aae608",
   "metadata": {},
   "outputs": [
    {
     "data": {
      "text/html": [
       "<div>\n",
       "<style scoped>\n",
       "    .dataframe tbody tr th:only-of-type {\n",
       "        vertical-align: middle;\n",
       "    }\n",
       "\n",
       "    .dataframe tbody tr th {\n",
       "        vertical-align: top;\n",
       "    }\n",
       "\n",
       "    .dataframe thead th {\n",
       "        text-align: right;\n",
       "    }\n",
       "</style>\n",
       "<table border=\"1\" class=\"dataframe\">\n",
       "  <thead>\n",
       "    <tr style=\"text-align: right;\">\n",
       "      <th></th>\n",
       "      <th>id</th>\n",
       "      <th>host_id</th>\n",
       "      <th>latitude</th>\n",
       "      <th>longitude</th>\n",
       "      <th>price</th>\n",
       "      <th>minimum_nights</th>\n",
       "      <th>number_of_reviews</th>\n",
       "      <th>last_review</th>\n",
       "      <th>reviews_per_month</th>\n",
       "      <th>calculated_host_listings_count</th>\n",
       "      <th>availability_365</th>\n",
       "    </tr>\n",
       "  </thead>\n",
       "  <tbody>\n",
       "    <tr>\n",
       "      <th>count</th>\n",
       "      <td>4.889500e+04</td>\n",
       "      <td>4.889500e+04</td>\n",
       "      <td>48895.000000</td>\n",
       "      <td>48895.000000</td>\n",
       "      <td>48895.000000</td>\n",
       "      <td>48895.000000</td>\n",
       "      <td>48895.000000</td>\n",
       "      <td>48895</td>\n",
       "      <td>48895.000000</td>\n",
       "      <td>48895.000000</td>\n",
       "      <td>48895.000000</td>\n",
       "    </tr>\n",
       "    <tr>\n",
       "      <th>mean</th>\n",
       "      <td>1.901714e+07</td>\n",
       "      <td>6.762001e+07</td>\n",
       "      <td>40.728949</td>\n",
       "      <td>-73.952170</td>\n",
       "      <td>244.007424</td>\n",
       "      <td>6.684998</td>\n",
       "      <td>23.684937</td>\n",
       "      <td>2018-10-04 23:50:04.503527936</td>\n",
       "      <td>1.188794</td>\n",
       "      <td>7.143982</td>\n",
       "      <td>112.042172</td>\n",
       "    </tr>\n",
       "    <tr>\n",
       "      <th>min</th>\n",
       "      <td>2.539000e+03</td>\n",
       "      <td>2.438000e+03</td>\n",
       "      <td>40.499790</td>\n",
       "      <td>-74.244420</td>\n",
       "      <td>100.000000</td>\n",
       "      <td>1.000000</td>\n",
       "      <td>1.000000</td>\n",
       "      <td>2011-03-28 00:00:00</td>\n",
       "      <td>0.010000</td>\n",
       "      <td>1.000000</td>\n",
       "      <td>0.000000</td>\n",
       "    </tr>\n",
       "    <tr>\n",
       "      <th>25%</th>\n",
       "      <td>9.471945e+06</td>\n",
       "      <td>7.822033e+06</td>\n",
       "      <td>40.690100</td>\n",
       "      <td>-73.983070</td>\n",
       "      <td>170.000000</td>\n",
       "      <td>1.000000</td>\n",
       "      <td>2.000000</td>\n",
       "      <td>2018-07-13 00:00:00</td>\n",
       "      <td>0.330000</td>\n",
       "      <td>1.000000</td>\n",
       "      <td>0.000000</td>\n",
       "    </tr>\n",
       "    <tr>\n",
       "      <th>50%</th>\n",
       "      <td>1.967728e+07</td>\n",
       "      <td>3.079382e+07</td>\n",
       "      <td>40.723070</td>\n",
       "      <td>-73.955680</td>\n",
       "      <td>206.000000</td>\n",
       "      <td>3.000000</td>\n",
       "      <td>5.000000</td>\n",
       "      <td>2019-05-19 00:00:00</td>\n",
       "      <td>0.720000</td>\n",
       "      <td>1.000000</td>\n",
       "      <td>45.000000</td>\n",
       "    </tr>\n",
       "    <tr>\n",
       "      <th>75%</th>\n",
       "      <td>2.915218e+07</td>\n",
       "      <td>1.074344e+08</td>\n",
       "      <td>40.763115</td>\n",
       "      <td>-73.936275</td>\n",
       "      <td>275.000000</td>\n",
       "      <td>5.000000</td>\n",
       "      <td>24.000000</td>\n",
       "      <td>2019-06-23 00:00:00</td>\n",
       "      <td>1.360000</td>\n",
       "      <td>2.000000</td>\n",
       "      <td>223.000000</td>\n",
       "    </tr>\n",
       "    <tr>\n",
       "      <th>max</th>\n",
       "      <td>3.648724e+07</td>\n",
       "      <td>2.743213e+08</td>\n",
       "      <td>40.913060</td>\n",
       "      <td>-73.712990</td>\n",
       "      <td>1000.000000</td>\n",
       "      <td>200.000000</td>\n",
       "      <td>629.000000</td>\n",
       "      <td>2019-07-08 00:00:00</td>\n",
       "      <td>58.500000</td>\n",
       "      <td>327.000000</td>\n",
       "      <td>365.000000</td>\n",
       "    </tr>\n",
       "    <tr>\n",
       "      <th>std</th>\n",
       "      <td>1.098311e+07</td>\n",
       "      <td>7.861097e+07</td>\n",
       "      <td>0.054530</td>\n",
       "      <td>0.046157</td>\n",
       "      <td>125.410639</td>\n",
       "      <td>13.763443</td>\n",
       "      <td>44.344485</td>\n",
       "      <td>NaN</td>\n",
       "      <td>1.448147</td>\n",
       "      <td>32.952519</td>\n",
       "      <td>131.138841</td>\n",
       "    </tr>\n",
       "  </tbody>\n",
       "</table>\n",
       "</div>"
      ],
      "text/plain": [
       "                 id       host_id      latitude     longitude         price  \\\n",
       "count  4.889500e+04  4.889500e+04  48895.000000  48895.000000  48895.000000   \n",
       "mean   1.901714e+07  6.762001e+07     40.728949    -73.952170    244.007424   \n",
       "min    2.539000e+03  2.438000e+03     40.499790    -74.244420    100.000000   \n",
       "25%    9.471945e+06  7.822033e+06     40.690100    -73.983070    170.000000   \n",
       "50%    1.967728e+07  3.079382e+07     40.723070    -73.955680    206.000000   \n",
       "75%    2.915218e+07  1.074344e+08     40.763115    -73.936275    275.000000   \n",
       "max    3.648724e+07  2.743213e+08     40.913060    -73.712990   1000.000000   \n",
       "std    1.098311e+07  7.861097e+07      0.054530      0.046157    125.410639   \n",
       "\n",
       "       minimum_nights  number_of_reviews                    last_review  \\\n",
       "count    48895.000000       48895.000000                          48895   \n",
       "mean         6.684998          23.684937  2018-10-04 23:50:04.503527936   \n",
       "min          1.000000           1.000000            2011-03-28 00:00:00   \n",
       "25%          1.000000           2.000000            2018-07-13 00:00:00   \n",
       "50%          3.000000           5.000000            2019-05-19 00:00:00   \n",
       "75%          5.000000          24.000000            2019-06-23 00:00:00   \n",
       "max        200.000000         629.000000            2019-07-08 00:00:00   \n",
       "std         13.763443          44.344485                            NaN   \n",
       "\n",
       "       reviews_per_month  calculated_host_listings_count  availability_365  \n",
       "count       48895.000000                    48895.000000      48895.000000  \n",
       "mean            1.188794                        7.143982        112.042172  \n",
       "min             0.010000                        1.000000          0.000000  \n",
       "25%             0.330000                        1.000000          0.000000  \n",
       "50%             0.720000                        1.000000         45.000000  \n",
       "75%             1.360000                        2.000000        223.000000  \n",
       "max            58.500000                      327.000000        365.000000  \n",
       "std             1.448147                       32.952519        131.138841  "
      ]
     },
     "execution_count": 28,
     "metadata": {},
     "output_type": "execute_result"
    }
   ],
   "source": [
    "df.describe()"
   ]
  },
  {
   "cell_type": "code",
   "execution_count": 29,
   "id": "c04ceaea",
   "metadata": {},
   "outputs": [
    {
     "name": "stdout",
     "output_type": "stream",
     "text": [
      "<class 'pandas.core.frame.DataFrame'>\n",
      "RangeIndex: 48895 entries, 0 to 48894\n",
      "Data columns (total 16 columns):\n",
      " #   Column                          Non-Null Count  Dtype         \n",
      "---  ------                          --------------  -----         \n",
      " 0   id                              48895 non-null  int64         \n",
      " 1   name                            48895 non-null  object        \n",
      " 2   host_id                         48895 non-null  int64         \n",
      " 3   host_name                       48895 non-null  object        \n",
      " 4   neighbourhood_group             48895 non-null  object        \n",
      " 5   neighbourhood                   48895 non-null  object        \n",
      " 6   latitude                        48895 non-null  float64       \n",
      " 7   longitude                       48895 non-null  float64       \n",
      " 8   room_type                       48895 non-null  object        \n",
      " 9   price                           48895 non-null  float64       \n",
      " 10  minimum_nights                  48895 non-null  float64       \n",
      " 11  number_of_reviews               48895 non-null  int64         \n",
      " 12  last_review                     48895 non-null  datetime64[ns]\n",
      " 13  reviews_per_month               48895 non-null  float64       \n",
      " 14  calculated_host_listings_count  48895 non-null  int64         \n",
      " 15  availability_365                48895 non-null  float64       \n",
      "dtypes: datetime64[ns](1), float64(6), int64(4), object(5)\n",
      "memory usage: 6.0+ MB\n"
     ]
    }
   ],
   "source": [
    "df.info()"
   ]
  },
  {
   "cell_type": "code",
   "execution_count": 30,
   "id": "8558d0d0",
   "metadata": {},
   "outputs": [
    {
     "data": {
      "text/plain": [
       "id                                48895\n",
       "name                              47906\n",
       "host_id                           37457\n",
       "host_name                         11130\n",
       "neighbourhood_group                   5\n",
       "neighbourhood                       221\n",
       "latitude                          19048\n",
       "longitude                         14718\n",
       "room_type                             3\n",
       "price                               553\n",
       "minimum_nights                      114\n",
       "number_of_reviews                   393\n",
       "last_review                        1731\n",
       "reviews_per_month                   915\n",
       "calculated_host_listings_count       47\n",
       "availability_365                    366\n",
       "dtype: int64"
      ]
     },
     "execution_count": 30,
     "metadata": {},
     "output_type": "execute_result"
    }
   ],
   "source": [
    "df.nunique()"
   ]
  },
  {
   "cell_type": "code",
   "execution_count": 31,
   "id": "0e8c8a48",
   "metadata": {},
   "outputs": [
    {
     "data": {
      "text/plain": [
       "np.int64(0)"
      ]
     },
     "execution_count": 31,
     "metadata": {},
     "output_type": "execute_result"
    }
   ],
   "source": [
    "df.duplicated().sum() "
   ]
  },
  {
   "cell_type": "markdown",
   "id": "6e7397b7",
   "metadata": {},
   "source": [
    "## Checking For invalids"
   ]
  },
  {
   "cell_type": "code",
   "execution_count": 32,
   "id": "252dfd1d",
   "metadata": {},
   "outputs": [
    {
     "name": "stdout",
     "output_type": "stream",
     "text": [
      "id_duplicates: 0\n",
      "id_nulls: 0\n",
      "name_nulls: 0\n",
      "name_empty: 0\n",
      "host_name_nulls: 0\n",
      "neighbourhood_group_invalid: 0\n",
      "latitude_out_of_bounds: 0\n",
      "longitude_out_of_bounds: 0\n",
      "price_negative: 0\n",
      "price_zero: 0\n",
      "minimum_nights_invalid: 0\n",
      "reviews_per_month_negative: 0\n",
      "availability_365_invalid: 0\n",
      "last_review_invalid: 0\n"
     ]
    }
   ],
   "source": [
    "# Example: Check invalids in each key column\n",
    "\n",
    "invalids = {}\n",
    "\n",
    "# ID\n",
    "invalids['id_duplicates'] = df['id'].duplicated().sum()\n",
    "invalids['id_nulls'] = df['id'].isna().sum()\n",
    "\n",
    "# Name\n",
    "invalids['name_nulls'] = df['name'].isna().sum()\n",
    "invalids['name_empty'] = (df['name'].str.strip() == '').sum()\n",
    "\n",
    "# Host Name\n",
    "invalids['host_name_nulls'] = df['host_name'].isna().sum()\n",
    "\n",
    "# Neighbourhood Group\n",
    "valid_groups = ['Manhattan', 'Brooklyn', 'Queens', 'Staten Island', 'Bronx']\n",
    "invalids['neighbourhood_group_invalid'] = (~df['neighbourhood_group'].isin(valid_groups)).sum()\n",
    "\n",
    "# Latitude & Longitude\n",
    "invalids['latitude_out_of_bounds'] = (~df['latitude'].between(40.49, 40.92)).sum()\n",
    "invalids['longitude_out_of_bounds'] = (~df['longitude'].between(-74.25, -73.70)).sum()\n",
    "\n",
    "# Price\n",
    "invalids['price_negative'] = (df['price'] < 0).sum()\n",
    "invalids['price_zero'] = (df['price'] == 0).sum()\n",
    "\n",
    "# Minimum Nights\n",
    "invalids['minimum_nights_invalid'] = (~df['minimum_nights'].between(1, 365)).sum()\n",
    "\n",
    "# Reviews Per Month\n",
    "invalids['reviews_per_month_negative'] = (df['reviews_per_month'] < 0).sum()\n",
    "\n",
    "# Availability\n",
    "invalids['availability_365_invalid'] = (~df['availability_365'].between(0, 365)).sum()\n",
    "\n",
    "# Last Review\n",
    "invalids['last_review_invalid'] = pd.to_datetime(df['last_review'], errors='coerce').isna().sum()\n",
    "\n",
    "# Show results\n",
    "for k, v in invalids.items():\n",
    "    print(f\"{k}: {v}\")\n"
   ]
  },
  {
   "cell_type": "code",
   "execution_count": 33,
   "id": "739f42f5",
   "metadata": {},
   "outputs": [],
   "source": [
    "df.to_csv(\"AB_NYC_Cleaned1.csv\",index=False)"
   ]
  },
  {
   "cell_type": "markdown",
   "id": "0812e65f",
   "metadata": {},
   "source": [
    "### Conclusion (Data Cleaning & Manipulation)\n",
    "\n",
    "- Cleaned and preprocessed NYC Airbnb data thoroughly.\n",
    "- Handled missing values with:\n",
    "  - Mode for categorical columns.\n",
    "  - Median for skewed numerical columns.\n",
    "  - Conditional filling using related features.\n",
    "- Preserved `NaN` where missing data is meaningful (e.g., no reviews).\n",
    "- Checked and fixed data types for consistency.\n",
    "- Created new features for better analysis.\n",
    "- Dataset is now clean, consistent, and ready for EDA.\n"
   ]
  }
 ],
 "metadata": {
  "kernelspec": {
   "display_name": "Python 3",
   "language": "python",
   "name": "python3"
  },
  "language_info": {
   "codemirror_mode": {
    "name": "ipython",
    "version": 3
   },
   "file_extension": ".py",
   "mimetype": "text/x-python",
   "name": "python",
   "nbconvert_exporter": "python",
   "pygments_lexer": "ipython3",
   "version": "3.13.5"
  }
 },
 "nbformat": 4,
 "nbformat_minor": 5
}
